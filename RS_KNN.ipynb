{
 "cells": [
  {
   "cell_type": "code",
   "execution_count": 1,
   "id": "f5e1f47e",
   "metadata": {},
   "outputs": [],
   "source": [
    "import pandas as pd\n",
    "import seaborn as sns\n",
    "import matplotlib.pyplot as plt\n",
    "import string\n",
    "import nltk\n",
    "from nltk import word_tokenize\n",
    "from nltk.util import ngrams\n",
    "from collections import Counter"
   ]
  },
  {
   "cell_type": "markdown",
   "id": "551d40b7",
   "metadata": {},
   "source": [
    "# Basic Data Analysis"
   ]
  },
  {
   "cell_type": "code",
   "execution_count": 2,
   "id": "31414a0c",
   "metadata": {},
   "outputs": [],
   "source": [
    "df = pd.read_csv(\"BigML_Dataset_6100f0a85e269e0556001fe9.csv\")"
   ]
  },
  {
   "cell_type": "code",
   "execution_count": 3,
   "id": "a2592be3",
   "metadata": {},
   "outputs": [
    {
     "data": {
      "text/plain": [
       "516174"
      ]
     },
     "execution_count": 3,
     "metadata": {},
     "output_type": "execute_result"
    }
   ],
   "source": [
    "len(df)"
   ]
  },
  {
   "cell_type": "code",
   "execution_count": 4,
   "id": "0b55aa00",
   "metadata": {},
   "outputs": [
    {
     "data": {
      "text/html": [
       "<div>\n",
       "<style scoped>\n",
       "    .dataframe tbody tr th:only-of-type {\n",
       "        vertical-align: middle;\n",
       "    }\n",
       "\n",
       "    .dataframe tbody tr th {\n",
       "        vertical-align: top;\n",
       "    }\n",
       "\n",
       "    .dataframe thead th {\n",
       "        text-align: right;\n",
       "    }\n",
       "</style>\n",
       "<table border=\"1\" class=\"dataframe\">\n",
       "  <thead>\n",
       "    <tr style=\"text-align: right;\">\n",
       "      <th></th>\n",
       "      <th>Band</th>\n",
       "      <th>Lyrics</th>\n",
       "      <th>Song</th>\n",
       "    </tr>\n",
       "  </thead>\n",
       "  <tbody>\n",
       "    <tr>\n",
       "      <th>count</th>\n",
       "      <td>516174</td>\n",
       "      <td>516165</td>\n",
       "      <td>516170</td>\n",
       "    </tr>\n",
       "    <tr>\n",
       "      <th>unique</th>\n",
       "      <td>42625</td>\n",
       "      <td>400743</td>\n",
       "      <td>285216</td>\n",
       "    </tr>\n",
       "    <tr>\n",
       "      <th>top</th>\n",
       "      <td>Frank Sinatra</td>\n",
       "      <td>Somewhere over the rainbow, way up high\\r\\nThe...</td>\n",
       "      <td>Over the Rainbow</td>\n",
       "    </tr>\n",
       "    <tr>\n",
       "      <th>freq</th>\n",
       "      <td>1403</td>\n",
       "      <td>624</td>\n",
       "      <td>550</td>\n",
       "    </tr>\n",
       "  </tbody>\n",
       "</table>\n",
       "</div>"
      ],
      "text/plain": [
       "                 Band                                             Lyrics  \\\n",
       "count          516174                                             516165   \n",
       "unique          42625                                             400743   \n",
       "top     Frank Sinatra  Somewhere over the rainbow, way up high\\r\\nThe...   \n",
       "freq             1403                                                624   \n",
       "\n",
       "                    Song  \n",
       "count             516170  \n",
       "unique            285216  \n",
       "top     Over the Rainbow  \n",
       "freq                 550  "
      ]
     },
     "execution_count": 4,
     "metadata": {},
     "output_type": "execute_result"
    }
   ],
   "source": [
    "df.describe()"
   ]
  },
  {
   "cell_type": "code",
   "execution_count": 5,
   "id": "4ecfca34",
   "metadata": {},
   "outputs": [
    {
     "data": {
      "text/plain": [
       "400744"
      ]
     },
     "execution_count": 5,
     "metadata": {},
     "output_type": "execute_result"
    }
   ],
   "source": [
    "len(df.drop_duplicates(subset=['Lyrics']))"
   ]
  },
  {
   "cell_type": "code",
   "execution_count": 6,
   "id": "da2f919e",
   "metadata": {},
   "outputs": [
    {
     "data": {
      "text/plain": [
       "516174"
      ]
     },
     "execution_count": 6,
     "metadata": {},
     "output_type": "execute_result"
    }
   ],
   "source": [
    "len(df)"
   ]
  },
  {
   "cell_type": "code",
   "execution_count": 7,
   "id": "9cc719df",
   "metadata": {},
   "outputs": [
    {
     "data": {
      "text/html": [
       "<div>\n",
       "<style scoped>\n",
       "    .dataframe tbody tr th:only-of-type {\n",
       "        vertical-align: middle;\n",
       "    }\n",
       "\n",
       "    .dataframe tbody tr th {\n",
       "        vertical-align: top;\n",
       "    }\n",
       "\n",
       "    .dataframe thead th {\n",
       "        text-align: right;\n",
       "    }\n",
       "</style>\n",
       "<table border=\"1\" class=\"dataframe\">\n",
       "  <thead>\n",
       "    <tr style=\"text-align: right;\">\n",
       "      <th></th>\n",
       "      <th>null_count</th>\n",
       "    </tr>\n",
       "  </thead>\n",
       "  <tbody>\n",
       "    <tr>\n",
       "      <th>Band</th>\n",
       "      <td>0</td>\n",
       "    </tr>\n",
       "    <tr>\n",
       "      <th>Lyrics</th>\n",
       "      <td>9</td>\n",
       "    </tr>\n",
       "    <tr>\n",
       "      <th>Song</th>\n",
       "      <td>4</td>\n",
       "    </tr>\n",
       "  </tbody>\n",
       "</table>\n",
       "</div>"
      ],
      "text/plain": [
       "        null_count\n",
       "Band             0\n",
       "Lyrics           9\n",
       "Song             4"
      ]
     },
     "execution_count": 7,
     "metadata": {},
     "output_type": "execute_result"
    }
   ],
   "source": [
    "null_rows = pd.DataFrame({\"null_count\": df.isnull().sum()})\n",
    "null_rows"
   ]
  },
  {
   "cell_type": "markdown",
   "id": "b2b761a6",
   "metadata": {},
   "source": [
    "## Title"
   ]
  },
  {
   "cell_type": "code",
   "execution_count": 28,
   "id": "38ca0261",
   "metadata": {},
   "outputs": [
    {
     "data": {
      "image/png": "[encoded data removed]",
      "text/plain": [
       "<Figure size 576x432 with 1 Axes>"
      ]
     },
     "metadata": {
      "needs_background": "light"
     },
     "output_type": "display_data"
    }
   ],
   "source": [
    "title_vc = pd.DataFrame({\"Count\": df[\"Song\"].value_counts()})\n",
    "plt.figure(figsize=(8,6))\n",
    "sns.barplot(y=title_vc[0:30].index, x=title_vc[0:30][\"Count\"], orient='h')\n",
    "plt.title(\"Top 30 most use title\")\n",
    "plt.show()"
   ]
  },
  {
   "cell_type": "markdown",
   "id": "b89790ab",
   "metadata": {},
   "source": [
    "## Band"
   ]
  },
  {
   "cell_type": "code",
   "execution_count": 32,
   "id": "74e1ee6f",
   "metadata": {},
   "outputs": [
    {
     "data": {
      "image/png": "[encoded data removed]",
      "text/plain": [
       "<Figure size 576x432 with 1 Axes>"
      ]
     },
     "metadata": {
      "needs_background": "light"
     },
     "output_type": "display_data"
    }
   ],
   "source": [
    "band_vc = pd.DataFrame({\"Count\": df[\"Band\"].value_counts()})\n",
    "plt.figure(figsize=(8,6))\n",
    "sns.barplot(y=band_vc[0:30].index, x=band_vc[0:30][\"Count\"], orient='h')\n",
    "plt.title(\"Top 30 most use title\")\n",
    "plt.show()"
   ]
  },
  {
   "cell_type": "markdown",
   "id": "1fcf5c80",
   "metadata": {},
   "source": [
    "## Lyrics"
   ]
  },
  {
   "cell_type": "code",
   "execution_count": 54,
   "id": "f917d6bc",
   "metadata": {},
   "outputs": [
    {
     "data": {
      "image/png": "[encoded data removed]",
      "text/plain": [
       "<Figure size 360x360 with 1 Axes>"
      ]
     },
     "metadata": {
      "needs_background": "light"
     },
     "output_type": "display_data"
    }
   ],
   "source": [
    "lyrics_length = df['Lyrics'].fillna(\"\").apply(len)\n",
    "sns.displot(lyrics_length)\n",
    "plt.title(\"Lyrics Length Distribution\")\n",
    "plt.xlabel(\"Count\")\n",
    "plt.ylabel(\"Density\")\n",
    "plt.show()"
   ]
  },
  {
   "cell_type": "code",
   "execution_count": 51,
   "id": "cdd9cb77",
   "metadata": {},
   "outputs": [
    {
     "data": {
      "text/plain": [
       "(1.0, 37260.0)"
      ]
     },
     "execution_count": 51,
     "metadata": {},
     "output_type": "execute_result"
    }
   ],
   "source": [
    "min(lyrics_length), max(lyrics_length)"
   ]
  },
  {
   "cell_type": "markdown",
   "id": "684d396f",
   "metadata": {},
   "source": [
    "## words count in lyrics"
   ]
  },
  {
   "cell_type": "code",
   "execution_count": 56,
   "id": "1ffe6159",
   "metadata": {},
   "outputs": [
    {
     "data": {
      "image/png": "[encoded data removed]",
      "text/plain": [
       "<Figure size 360x360 with 1 Axes>"
      ]
     },
     "metadata": {
      "needs_background": "light"
     },
     "output_type": "display_data"
    }
   ],
   "source": [
    "def count_word(x):\n",
    "    return len(x.split())\n",
    "\n",
    "word_count = df['Lyrics'].fillna(\"\").apply(count_word)\n",
    "sns.displot(word_count)\n",
    "plt.title(\"word count distribution\")\n",
    "plt.xlabel(\"Count\")\n",
    "plt.ylabel(\"Density\")\n",
    "plt.show()"
   ]
  },
  {
   "cell_type": "code",
   "execution_count": 57,
   "id": "faaeb248",
   "metadata": {},
   "outputs": [
    {
     "data": {
      "text/plain": [
       "(0, 6392)"
      ]
     },
     "execution_count": 57,
     "metadata": {},
     "output_type": "execute_result"
    }
   ],
   "source": [
    "min(word_count),max(word_count)"
   ]
  },
  {
   "cell_type": "code",
   "execution_count": 67,
   "id": "78d890bf",
   "metadata": {},
   "outputs": [
    {
     "data": {
      "text/plain": [
       "['248208:37260']"
      ]
     },
     "execution_count": 67,
     "metadata": {},
     "output_type": "execute_result"
    }
   ],
   "source": [
    "\n",
    "[\"{}:{}\".format(id,len(x)) for id,x in enumerate(df['Lyrics'].fillna(\"\")) if len(x)==37260]"
   ]
  },
  {
   "cell_type": "code",
   "execution_count": 68,
   "id": "efa37e7a",
   "metadata": {},
   "outputs": [
    {
     "data": {
      "text/plain": [
       "\"„Hello, children\\r\\nHello\\r\\nAre you ready?\\r\\nThen we'll begin“\\r\\n\\r\\nEy\\r\\nHier sind die Beginner, woo\\r\\nYeah\\r\\nDas is' für die alten Zeiten\\r\\nFür den alten Vibe, den alten Flash\\r\\nEin Mixtape wie früher\\r\\nGemixt, gecutted, gestyled\\r\\nFür all die sie sagen: „Ey\\r\\nWieso klingt der neue Scheiß nicht wie Bambule?\\r\\nUnd was macht dieser Gzuz Typ da im Video?“\\r\\nAber alles cool\\r\\nWir haben das ja selber mal gehört\\r\\nSelber mal gemacht\\r\\nUnd es bringt riesen Spaß\\r\\nMit alten Strophen und alten Beats\\r\\nEimsbush Stylee\\r\\nAh, check das ab\\r\\nYo\\r\\n\\r\\nWas los? Wir sind im Haus heut' Nacht\\r\\nHaben euch alte Styles mitgebracht\\r\\nFür alle, die noch mit uns down sind\\r\\nUnd immer wiederkommen, wenn wir unseren Sound bringen\\r\\n\\r\\nWir sind im Haus heut' Nacht\\r\\nHaben euch alte Styles mitgebracht\\r\\nFür alle, die noch mit uns down sind\\r\\nUnd immer wiederkommen, wenn wir unseren Sound bringen\\r\\n\\r\\nEizi Eiz - „Das E“\\r\\nDenyo - „Das D“\\r\\nDj Mad am Mix - „Das M“\\r\\nUnd Mister Tropf - „Das T\\r\\nUnd Fidjikris - „Das C“\\r\\nUnd Foxy Music - „Foxy“\\r\\nSoundsystem\\r\\n\\r\\nWas los? Wir sind im Haus heut' Nacht\\r\\nHaben euch alte Styles mitgebracht\\r\\nFür alle, die noch mit uns down sind\\r\\nUnd immer wiederkommen, wenn wir unseren Sound bringen\\r\\n\\r\\nWir sind im Haus heut' Nacht\\r\\nHaben euch alte Styles mitgebracht\\r\\nFür alle, die noch mit uns down sind\\r\\nUnd immer wiederkommen, wenn wir unseren Sound bringen\\r\\n\\r\\n„Did you hear that?“\\r\\n„Hear what? I don't hear anything unusual“\\r\\n„A sort of strange haunting music\\r\\nIt's been coming in on a interstellar frequency\\r\\nBut at regular intervals\\r\\nIt's like a message of some kind“\\r\\n\\r\\nFoxy Music\\r\\n\\r\\nChill, (chill), chill, (chill), chill, (chill)\\r\\nChill, (chill), chill, (chill), chill, (chill)\\r\\nChill, (chill), chill, (chill)\\r\\n\\r\\nJa, ich sag\\r\\nSiehst du das Blau und das Gelb, da der\\r\\nSiehst du das Blau und das Gelb, da der \\r\\nSiehst du das Blau und\\r\\nSiehst du das Blau und\\r\\nSiehst du das, siehst du das, siehst du das\\r\\nSiehst du das Blau und das Gelb, da der Punkt\\r\\nDer Skunkduft, der dir funkt: es ist Zeit\\r\\nBreit und weit und breit nur Welt\\r\\nUnd alles wird schön und hübsch, wie ein Bild, es gefällt dir\\r\\nCool, jetzt sitze ich am Pool in meinem Liegestuhl\\r\\nIch denk, ich bin verwirrt, doch dann bin ich wieder cool\\r\\nJa, das gehen wir ruhig an, nur keine Hektik\\r\\nDenn es erstreckt sich auf einmal\\r\\nTiefe Tiefe in mehr Richtungen, als es gibt\\r\\nJemand hat sich in diesen Moment verliebt\\r\\nMeditation entspannt geb' ich das Ruder aus der Hand\\r\\nUnd lass mich treiben auf dem Fluss durch das Traumland\\r\\nDas Wasser plätschert, funkelt wenn du lachst\\r\\nUnd ich mir fast vor Lachen in die Hose mach'\\r\\nHey, die Sonne scheint zurück von der Haut dieser Frau\\r\\nDie ich anbetungsvoll anschau\\r\\nUnd ich gehe langsam durch die Hektik von heute\\r\\nSchreite gemächlich durch die rennende Meute\\r\\nAuf meiner Reise werde ich kurz weise - pralles Ding\\r\\nFür einen Moment wusste ich worum alles ging\\r\\n\\r\\nChillen, alle Leute sind am Chillen\\r\\nWas geht ab? Wir sind am Chillen\\r\\nWas geht ab? Ihr seid am Chillen (Chill man, chill)\\r\\nDie Beginner sind am Chillen \\r\\nPlatin Martin ist am Chillen \\r\\nTropf am Mix ist am Chillen \\r\\nFidjikris ist am Chillen\\r\\n(Chill man, ch-ch-chill, chill, chill)\\r\\n\\r\\nDynamite\\r\\nOh, ah, ja\\r\\nIch sag:\\r\\nSamy Deluxe am Mikrofon, ran am Anfang\\r\\nEs hört sich krank an, ich will an allen Ufern ankern\\r\\nIch finde Anklang, kann man das sagen? Ja, das kann man\\r\\nDenn ich brauch' mich nicht mehr an alten Zielen festklammern\\r\\nAndere rappen, doch hören sich an als wenn sie jammern\\r\\nAußerdem stammeln, weil ihre Zungen im Mund vergammeln\\r\\nWir sammeln Inspiration und Energie\\r\\nBrauchen keine Gewinner nie\\r\\nWeil wir Gewinner sind, für immer im Wahn\\r\\nMit Ideen auf dem Plan, erzählen von Dingen, die wir sahen\\r\\nOrten an den wir waren, wir rulen wie Dschingis Khan\\r\\nIhr könnts nicht ahnen, egal wie hype ihr seid\\r\\nZeit für Dennis und Dynamite Deluxe, a'ight\\r\\nSamy Deluxe ist Dichter und Verfasser\\r\\nDj Dynamite sorgt für den Ghettoblaster\\r\\nVinyl bis Meister, aber kein Scheibenkleister\\r\\nUnd Dennis Lisk ist zweiter, nicht dritter sondern dreister\\r\\nHamburgs neues Tempo, nichts für Popel\\r\\nWir fahren Ford und nicht Opel\\r\\nUnd zwar mit Rap-Mucke, weiß ich nicht weiter\\r\\nIst die Glotze Therapeut, wenn ich Rap gucke\\r\\nNeue Styles müssen so dringend her wie andere auf Toilette\\r\\nWenn sie mich sehen und sich ins Hemd pissen, jede Wette\\r\\nWeil, 'ne gute Freestyle-Kür gehört zu mir\\r\\nWie dein Name an die Tür oder an die Wand\\r\\nSpieglein, wer ist der schönste Rapper im Land? Du\\r\\nWie ist mein Name? Dennis von der AB-Crew\\r\\nIch hör nicht auf, und besonders nicht auf andere\\r\\nFlieg' mit den Beats von Dynamite, meilenweit\\r\\nUnd weiß nicht ob ich lande\\r\\nUnd ob, und wenn nur damit ich tanke\\r\\nErober alle Herzen im Sturm und Samy schießt die Flanke\\r\\nDie Tore fallen und wir steigen, die Beats sind fetter\\r\\nDie Underground-Chart-Trendsetter\\r\\n\\r\\nWir gehen weiter und poppern auf den Zeiger\\r\\nDie Underground-Chart-Trend-Setter\\r\\nDer Beat ist fetter\\r\\nChartleader der Styleliga\\r\\nDer Underground setzt den Trend der Trend-Setter bis ihn jeder kennt\\r\\n\\r\\nWir gehen weiter und poppern auf den Zeiger\\r\\nDie Underground-Chart-Trend-Setter\\r\\nDer Beat ist fetter\\r\\nChartleader der Styleliga\\r\\nDer Underground setzt den Trend der Trend-Setter bis ihn jeder kennt\\r\\n\\r\\nIch komm in der Tür, du fragst wofür\\r\\nNun ja, weil ich das Verlangen nach Befriedigung verspür\\r\\nRühr die Chemie an, die euch zum zuhören verführt\\r\\nEhre wem Ehre gebührt, also mir\\r\\nHier, nimm dies und zeig es allen MCs\\r\\nDamit sie wissen wo dieser neue Einfluss herfließt\\r\\nHamburg City\\r\\nSpuhl das Tape zurück bis es zu Ende ist\\r\\nUnd wende es, bis es heiß ist\\r\\nDu hörst, dass dies kein Scheiß ist\\r\\nUnd wenn der Sound allein noch kein Beweis ist\\r\\nDann lass die Texte sacken, bis auf den Grund deines Geistes\\r\\nUnd verdau sie, spür wie weit wir den anderen voraus sind\\r\\nOhne Pausen, stylen bis ins nächste Jahrtausend\\r\\nWir gehen weiter\\r\\nSo ist es, also friss es, miss es mit anderen Raps\\r\\nUnd dann küss es, lieb es und nimm es, find es\\r\\nCool ich könnte wetten, dass du nicht denkst, dass es dünn ist\\r\\nWeil es fett ist, keck is', deswegen tagg es an die Wand und vergiss\\r\\nNiemals wer der Mac ist, Dennis hilft wie Cannabis\\r\\nRap ist mein Leben, weil er viel wert ist\\r\\nCooler Rap mit Eis serviert wird\\r\\nUnd heiß begehrt ist, ha\\r\\n\\r\\nWir gehen weiter und poppern auf den Zeiger\\r\\nDie Underground-Chart-Trend-Setter\\r\\nDer Beat ist fetter\\r\\nChartleader der Styleliga\\r\\nDer Underground setzt den Trend der Trend-Setter bis ihn jeder kennt\\r\\n\\r\\nWir gehen weiter und poppern auf den Zeiger\\r\\nDie Underground-Chart-Trend-Setter\\r\\nDer Beat ist fetter\\r\\nChartleader der Styleliga\\r\\nDer Underground setzt den Trend der Trend-Setter bis ihn jeder kennt\\r\\n\\r\\nBoba Ffett\\r\\nBoba Ffett\\r\\nBoba Ffett\\r\\nBoba Ffett\\r\\nBoba Ffett\\r\\nBoba Ffett\\r\\nBoba Ffett\\r\\nKing of this B-Boy thing\\r\\n\\r\\nJa, ich sag:\\r\\nWie geht das da? Liga-mäßig an den Start\\r\\nEs ist Boba Ffett, der Hanseat, mit der Hanse-Art\\r\\nIch koche Lachs, während in deinen Töpfen Pansen gart\\r\\nUnd komme so cool, da frieren Truck Stops die Fransen hart\\r\\nAlle wollen wissen warum gegen mich keiner 'ne Chance hat\\r\\nIch hab die Mongos, wo sich um andere 'n Haufen Transen schart\\r\\nFette Beats und Daunenjacken bevor es Helly Hansen gab\\r\\nUnd ihr Teenies in deutschen Serien zu Hip-Hop tanzen saht\\r\\nBevor ich Styles kicke, such ich den Raum nach Wanzen ab\\r\\nWann ist Schluss mit den Pirates, den Bitern und dem ganzen Pack?\\r\\nIch gebe mich ungern mit Behörden und Bilanzen ab\\r\\nWeil ich ihre Regeln so wie Dieter Bohlen Emanzen mag\\r\\nMache mich lieber mit Blüten von illegalen Pflanzen platt\\r\\nMache Beats, hoffe, dass das mit den Finanzen klappt\\r\\nWarte von meinen Mongos die Resonanzen ab\\r\\nBis das Presswerk einen neuen Burner in Vinyl zu stanzen hat\\r\\n\\r\\nIch sag, krass das, was? \\r\\nLass das As, derbe Styles kicken über den Bass\\r\\nIch sag, krass das, was? \\r\\nLass das As, euch fragen, fühlt ihr den Bass\\r\\nIch sag, krass das, was? \\r\\nLass das As, derbe Styles kicken über den Bass\\r\\nIch sag, krass das, was?\\r\\nLass das As, mach Rock 'n' Roll\\r\\n\\r\\nWas los?\\r\\nHör auf mit Algebra, weil ich auf Plus und Minus scheiß\\r\\nUnd komm zu mir, wenn deine Doktorarbeit Sinus heißt\\r\\nBist du Analphabet, so wird Bass buchstabiert\\r\\nIndem man Sub addiert und Höhen subtrahiert\\r\\nMks sind nicht geerdet, wenn Mad geschickt scratcht\\r\\nUnd Matze macht mit dem Gekratze dann den Mix fett\\r\\nUnd Boba hat 'n Kuchen und tausend fitte Tracks\\r\\nIch will mehr Bass, die Höhen leise und die Mitten weg\\r\\nHör in jeder Stadt Bass, von hier bis Kapstadt\\r\\nUnd in Bagdad les' ich halt 'n Bass-Fachblatt\\r\\nMein Style hat Karma, weil ausgepfeilte Wertarbeit\\r\\nNicht eng, wie 'n Bahnabteil, immer sechzig Hz dabei\\r\\nFrüher war vieles Spaß heute nehmen's viele ernst\\r\\nDoch auch du willst was, egal für welchen Stil du schwärmst\\r\\nSolang ihr Bass wollt werd' ich Bass haben\\r\\nUnd meiner der wird brummen, wie 'n Fernkraftwagen\\r\\n\\r\\nIch sag, krass das, was?\\r\\nLass das As, derbe Styles kicken über den Bass\\r\\nIch sag, krass das, was?\\r\\nLass das As, euch fragen, fühlt ihr den Bass\\r\\nIch sag, krass das, was?\\r\\nLass das As, derbe Styles kicken über den Bass\\r\\nIch sag, krass das, was? (Yes, yes Foxy Music)\\r\\nLass das As, mach Rock 'n' Roll\\r\\n\\r\\nYo, heute ist mir kalt, heute klagen Nachbarn\\r\\nDenn mein Zimmer hält nix anderes, als 'n Bass warm\\r\\nIch will im Bass baden, der muss brummen, wie Lastwagen\\r\\nDünne Sounds nerven wie Bullen die nach 'm Pass fragen\\r\\nIch kick statt Battle Rhymes Schlagzeilen in die Welt\\r\\nSechzig Hz zerbrechen nicht und wenn die Teeniewelt\\r\\nDie meinen, der Garten Eden sei 'n großer Blumentopf\\r\\nIch brauch im doppelsiebten Himmel bloß 'ne Boombox\\r\\nDas analoge Paradies ist heute ganz nah\\r\\nUnd stehst du nicht so auf Peace, ist Bass 'n Panzer\\r\\nWenn ich nach Sounds wühl, chill ich im Fuchsbau\\r\\nBis man es im Bauch fühlt und der Sound im Club taugt\\r\\nWeil Bass ist golden, wie das M wenn du in Burger beißt\\r\\nDoch magst du Metal, geh bellen, kack auf 'n Bürgersteig\\r\\nEs soll nicht quietschen, wie Enten oder Walgesang\\r\\nIch will Basswellen im Wellenbad oder am Badestrand\\r\\n\\r\\nIch sag, krass das, was?\\r\\nLass das As, derbe Styles kicken über den Bass\\r\\nIch sag, krass das, was?\\r\\nLass das As, euch fragen, fühlt ihr den Bass\\r\\nIch sag, krass das, was?\\r\\nLass das As, derbe Styles kicken über den Bass\\r\\nIch sag krass das, hier kommt Platin Martin\\r\\nVerlorene Strophe von „Da geht was“\\r\\n\\r\\nAnschaffung vom Chemiekasten hat sich gelohnt\\r\\nBei mir im Keller könnt ihr sehen, ich hab mich zehn mal geklont\\r\\nJetzt kick' ich Rhymes wie 'n Fußballteam jetzt\\r\\nWerden Rapjunkies auf keinen Fall clean, denn jetzt kommen Raps\\r\\nDie kitzeln wie erste Küsse in Küstennähe\\r\\nKühl flüstern wie der Wind, wenn ich an Küsten gehe\\r\\nKnisternde Kopfhaut zehntausend Volt Kurzschluss\\r\\nWie 'n Colt kurz nach dem Schuss, atme ich Rauch aus\\r\\nBin auch raus, wenn das Gas aus ist\\r\\nIm Haus ist Martin, der langsamer als der Tunnel Staus ist\\r\\nReim für uns, die wirken wie die Siebziger\\r\\nAlles wird freier und spritziger und Bob Marley gib's wieder\\r\\nEy gib's das? (Ja, man) Das heißt, da geht was\\r\\nIhr hört Bass und seht was die Wände zum vibrieren bringt\\r\\nSo krass wie wir klingen, kann es nicht gut gehen\\r\\nWir sehen uns dann den Südjemen beim Training\\r\\n\\r\\nIch sag, krass das, was?\\r\\nLass das As, derbe Styles kicken über den Bass\\r\\nIch sag, krass das, was?\\r\\nLass das As, euch fragen, fühlt ihr den Bass\\r\\nIch sag, krass das, was?\\r\\nLass das As, derbe Styles kicken über den Bass\\r\\nIch sag, krass das, was?\\r\\nLass das As, euch fragen, fühlt ihr den Bass\\r\\n\\r\\nThis is fantastic\\r\\n(Foxy Music)\\r\\nOh, this is terrific\\r\\n\\r\\nIch glaub' an nix bei all den Zaubertricks der Star-Maschinerie\\r\\nIch will keinen deutschen Hitler-Rap, ne, ich will Anarchie\\r\\nUnd meine Boom-Box braucht 'ne große Batterie\\r\\nDenn der Bass schallt vom Asphalt hoch ins Paradies\\r\\n\\r\\nIch glaub' an nix bei all den Zaubertricks der Star-Maschinerie\\r\\nIch will keinen deutschen Hitler-Rap, ne, ich will Anarchie\\r\\nUnd meine Boom-Box braucht 'ne große Batterie\\r\\nDenn der Bass schallt vom Asphalt hoch ins Paradies\\r\\n\\r\\nJa\\r\\nIch spreche von früher in höheren Tönen, als wie mit Helium\\r\\nDenn Hip-Hop, wie ich es kannte, starb mit dem neuen Millennium\\r\\nUrsache war die Masse und an der war ich mit schuld\\r\\nSie gab Hip-Hop 'ne Leine und 'n Maulkorb wie 'n Pitbull\\r\\nMachte Rap in Deutschland zu Deutschland im Rappen\\r\\nUnd an der Stelle bin ich draußen, denn ich find' Deutschland nicht fett, ne!\\r\\nSoll doch der ganze uninteressante Sauhaufen allein weiter im Kreis\\r\\nUnd irgendwann dann in's Aus laufen\\r\\nWir machen uns selber kaputt, ich kann's nicht länger hören\\r\\nFordert man den Verlust der Freiheit mit enger Stirn\\r\\nAnstatt immer was zu meckern sollte man Liebe finden\\r\\nUnd Paläste bekriegen und Dritten Frieden wünschen\\r\\nDas Land ist fade und macht durstig nach Leben\\r\\nUnd heutzutage ist Vorsicht geboten für jeden\\r\\nDenn Konkurrenz ist gut, aber der Flash geht vor\\r\\nStatt Allüren hab' ich Stahltüren für mein Rhymebook im Tresor\\r\\nAuch wenn der Beat mich hart begleitet, bleib' ich zart beseidet\\r\\nSo wird er vom Gespür für Flows smart verkleidet\\r\\nIch mach' meinen Kram und meide den Heiligenschein\\r\\nAll der Scharlatane in den eigenen Reihen\\r\\n\\r\\nIch glaub' an nix bei all den Zaubertricks der Star-Maschinerie\\r\\nIch will keinen deutschen Hitler-Rap, ne, ich will Anarchie\\r\\nUnd meine Boom-Box braucht 'ne große Batterie\\r\\nDenn der Bass schallt vom Asphalt hoch ins Paradies\\r\\n\\r\\nIch glaub' an nix bei all den Zaubertricks der Star-Maschinerie\\r\\nIch will keinen deutschen Hitler-Rap, ne, ich will Anarchie\\r\\nUnd meine Boom-Box braucht 'ne große Batterie\\r\\nDenn der Bass schallt vom Asphalt hoch ins Paradies\\r\\n\\r\\nDas ganze Feinde-Gelaber ist nicht bloß eine Macke\\r\\nUnd nicht der Spaß an der Sache der Maßstab einer Platte\\r\\nWas denn? Sich Beulen für Fame und heulende Sirenen\\r\\nUnd bloß kleine Kinder als Zeugen dieser Themen?\\r\\nIch find' das unangenehm\\r\\nWird nur noch runtergesehen und muss für Frieden in unseren Szenen Wunder geschehen?\\r\\nWas muss passieren, bis die meisten begreifen\\r\\nDass wir uns alle nur noch peinlich verhalten?\\r\\nZu dumm, dass mit der Masse nicht auch die Klasse zunahm\\r\\nDoch die wenigen guten Acts waren schon da, als der Boom kam\\r\\nDafür nerven Tausende aus der Newcomer-Rubrik \\r\\nMit 'ner SP-12, aber kein Plan von der Musik, nee\\r\\nWenn real bedeutet immer den gleichen Scheiß zu labern\\r\\nUnd um den Beat zu machen nur zwei Minuten Zeit zu haben\\r\\nMuss ich sagen: Okay, dann bin ich's eben nicht\\r\\nDenn für mich ist Qualität und der Flash wesentlich\\r\\nUnd an euch Pisser mit weniger Weitsicht, als 'n Blinder hat\\r\\nEuer Kinderkack macht mich wahnsinnig wie Rinderhack\\r\\nJeder Scheiß wird gesigned, Majors kriegen Torschlusspanik\\r\\nDoch ohne Sellout aus Hamburg bekämen ihr diesen Vorschuss gar nicht\\r\\nBoba Ffett\\r\\n\\r\\nIch glaub' an nix bei all den Zaubertricks der Star-Maschinerie\\r\\nIch will keinen deutschen Hitler-Rap, ne, ich will Anarchie\\r\\nUnd meine Boom-Box braucht 'ne große Batterie\\r\\nDenn der Bass schallt vom Asphalt hoch ins Paradies\\r\\n\\r\\nIch glaub' an nix bei all den Zaubertricks der Star-Maschinerie\\r\\nIch will keinen deutschen Hitler-Rap, ne, ich will Anarchie\\r\\nUnd meine Boom-Box braucht 'ne große Batterie\\r\\nDenn der Bass schallt vom Asphalt hoch ins Paradies\\r\\n\\r\\n„Eich ein Mikro\\r\\nEich ein Mikro\\r\\nEich ein Mikro und es verliert seine Seele\\r\\nDas ist der Grund, warum ich meinen Weg wähle“\\r\\n\\r\\nIch steh plus fünf auf der Gästeliste, doch mein Gott\\r\\nIch komm allein, meine Freunde haben keinen Bock\\r\\nDoch ich hab Hunger und auf dem Facebook-Flyer war die Rede\\r\\nDavon, dass es Fingerfood auf deiner Releaseparty gäbe\\r\\nUnd nun lass ich mich tatsächlich, wenn auch widerwillig\\r\\nFür paar Spieße Saku-Chicken auf ner Party blicken\\r\\nUnd lass es über mich ergehen, das Gedresche all der Phrasen\\r\\nUnd diese „Wann kommt 'n endlich das neue Album?“-Fragen\\r\\nUnd du fragst mich, wie es Jan geht?\\r\\nIch frage mich, was dich das angeht\\r\\nIch will hier weg, ich muss pissen und dein Telefon klingelt\\r\\nDoch ich warte vergebens, dass du Spacken endlich rangehst\\r\\nNe, ich war noch nie in Kaiserlautern\\r\\nUnd bagger' mit dir jetzt auch keine heißen Frauen an\\r\\nUnd nein, es gibt keine zweite Staffel bei Vox\\r\\nUnd ich war auch noch nie auf deinem supergeilen Blog\\r\\nUnd ja die Hose, ist ganz cool\\r\\nNe, die ist von Cowes, sorry Digga, ich muss los\\r\\nNe, ich bin heute einfach nur nicht so gut drauf\\r\\nJa, cool - Ja genau, du mich auch\\r\\n\\r\\nIch hab kein' Bock, so sieht es aus\\r\\nIch bleib stumm, doch leider nicht taub, Typ\\r\\nIch hab kein' Bock, auf all das Gelaber\\r\\nOhne Punkt, ohne Komma, kein wenn, kein aber, kein Bock\\r\\n\\r\\nKein wenn, kein aber\\r\\nKein wenn, kein aber, kein Bock\\r\\nKein wenn, kein aber\\r\\nKein wenn, kein aber, kein\\r\\n\\r\\nIch sage, ich stopfe hundert Kilo Knoblauch in mich rein\\r\\nEinfach nur damit ich stinke wie ein Schwein\\r\\nSo halt ich mir die Labernasen auf Distanz\\r\\nUnd habe meine wohlverdiente Ruhe, wenn ich tanz'\\r\\nUnd will ich mal shoppen gehen, ungestört\\r\\nSchmier ich mir 'n bisschen Kacke meiner Tochter auf mein Shirt\\r\\nDann denken sie vielleicht: „Ey, Alter, der hat 'nen Schaden“\\r\\nDoch wenigstens traut sich keiner mich nach 'nem Foto zu fragen\\r\\n\\r\\nIch hab kein' Bock, so sieht es aus\\r\\nIch bleib stumm, doch leider nicht taub, Typ\\r\\nIch hab kein' Bock, auf all das Gelaber\\r\\nOhne Punkt, ohne Komma, kein wenn, kein aber, kein' Bock\\r\\n\\r\\nKein wenn, kein aber\\r\\nNe, kein wenn, kein aber, kein Bock\\r\\nKein wenn, kein aber, ne, man\\r\\nKein wenn, kein aber, kein' Bock\\r\\nKein wenn, kein aber\\r\\nSorry, kein Bock auf deine Story\\r\\nGeh zu 'ner Parkuhr, kostet zwei Mark nur\\r\\nSorry, kein Bock auf deine Story\\r\\nGeh zu 'ner Parkuhr, kostet zwei Mark nur\\r\\nYeah\\r\\n\\r\\nYe-ye-yeow\\r\\nHokuspokus Abrakadabra und dann dreimal schwarzer Kater\\r\\nSo zaubern wir neue Schlager\\r\\nUnd burnen alles was da war\\r\\nDoch nicht a lá Tütata\\r\\nMehr wie 'n Jaguar im Lada\\r\\nWas eh wie Kloßbrühe klar war\\r\\nWeil für Hits haben wir 'ne Ader\\r\\nDas ist das Mongo-Geschwader\\r\\nZusammen sind wir unschlagbar\\r\\nSo rough wie Meinhoff und Baader\\r\\nHart wie Keule von Nana\\r\\nFür Sauberdeutschland das Drama\\r\\nDreizehner mit 'ner Sparvar\\r\\nRespekt an alle Train-Maler\\r\\nAuf Bullen mach ich das Lama\\r\\n\\r\\nBooyaka! Ich komm mit mehr Auswahl als 'n Supermarkt\\r\\nMich burnen ist 'ne haarige Angelegenheit wie 'n Kampf mit Chewbacca\\r\\nOoolala, cooler Loop, jetzt geht's rund wie Hulahoop\\r\\nIch kick Battle-Raps wie Hacky Sacks, wenn ich MCs untersuch'\\r\\nDiagnose: Größenwahn im fortgeschrittenen Stadium\\r\\nIch komm bei eurer Party rum, mit Ideen krank wie Parkinson\\r\\nIhr werdet bloßgestellt, so dass auch trotz Gürtel die Hose fällt\\r\\nBei eurer Show hat Flow gefehlt, heute geht ihr mal ohne Geld\\r\\n\\r\\nHamburg City macht den Markt klar\\r\\nMit Buback, Eimsbush, Yo Mama\\r\\nSo fleißig wie die Japaner\\r\\nUnd täglich werden wir larger\\r\\nWenn da 'n Jam letztes Jahr war\\r\\nWo nix aus Hamburg am Start war\\r\\nWar's wie Jimi ohne Wah-Wah\\r\\nOder Schimi ohne Parka\\r\\n\\r\\nAhn das mal! Wir bringen frischen Flavor wie Zahnpasta\\r\\nTeam Eimsbush mit Styles einer andern Art in den nächsten Jahren am Start\\r\\nTropf und ich schon mehr Gras verbrannt, als jeder Rastamann\\r\\nIhr Typen rappt just for fun? Es hört sich unfassbar an!\\r\\n\\r\\nEy, das ist das Derbste\\r\\n\\r\\nWas soll der Scheiß, eure Songs sind Psychoterror wie 'n Poltergeist\\r\\nUnd erst seitdem ich sie kenn', weiß ich wirklich was Folter heißt\\r\\nNiveaulos, doch wir bringen Rap höher als ein Pilot muss\\r\\nDreihundertsechzig Grad rund wie 'n Globus, wieso bloß\\r\\n\\r\\nEy, Alder\\r\\nDie meisten rappen so lala\\r\\nDie Beats sind süchtig nach mager\\r\\nMann und um solche Versager\\r\\nMacht man dann so 'n großes Trara\\r\\nScheiß auf das ganze Theater\\r\\nWie hoch der Promoetat war\\r\\nStyle ist unbezahlbar\\r\\nUnd ohne bist du nur AA\\r\\nIch bin ein Vinylliebhaber\\r\\nUnd du ein CD-Jasager\\r\\nIch sample gern Jamaikaner\\r\\nDu samplest Hannoveraner\\r\\nMein Rap ist derbe, der Knaller\\r\\nDu rappst schlechter als dein Vadder\\r\\nIch hab Fans im Promilager\\r\\nDeine haben noch nicht mal Schamhaar\\r\\n\\r\\nWas ist los? Ihr Typen meint ihr kickt krasse Flows?\\r\\nIhr macht euch größer als ihr seid, wie Leute mit Buffalos\\r\\nUnd sowas geht auf keinen Fall klar, frag mal MC B\\r\\nHier kommt Samy D. Mit mehr Boo-Yah als die Family!\\r\\n\\r\\nEy, das ist das Derbste\\r\\n\\r\\nFoxy Music\\r\\n\\r\\nJa, yeah\\r\\nWir können alle einpacken und nach Hause gehen\\r\\nDenn für Rap gibt's 'ne App auch auf PC\\r\\nJetzt kriegt jeder 'n paar Mausklicks und umsonst\\r\\nEin komplettes Heimstudio mit Ausblick auf die Bronx\\r\\nAusgerüstet mit 'nem digitalen Beatknopf\\r\\nDer alle Sytles liefert, von Lil' John bis Pete Rock\\r\\nUnd dank dem Spitterlyzer kann der Enkel mit der Oma\\r\\nIn Sekunde schnell rappen, sowie Redman und J Hova\\r\\nJa, ihr lacht, doch ihr wisst, dass ich recht hab\\r\\nDa jeder Hans oder Franz heute Rap macht\\r\\nUnd ich warte, wo sind die Unikate\\r\\nDie Suche bleibt vergebens, wie die, nach der Bundeslage\\r\\nDenn alle klingen irgendwie gleich\\r\\nHaben keine Ideen und schielen nur über den Teich\\r\\nKochen nach fremden Rezepten, wie 'n Hobbykoch\\r\\nMachen Mucke nich' im Studio, sonder im Copyshop\\r\\n\\r\\nWie jetzt? Ihr Typen wollt rappen wie ich?\\r\\nDeluxemäßig flowen, Styles kicken wie ich?\\r\\nWie jetzt? Ihr Typen wollt schreiben wie ich?\\r\\nDie Leute live rocken, nur oft bleiben sie nicht\\r\\nIch sag: Wie jetzt? Ihr Typen wollt rappen wie ich?\\r\\nDeluxemäßig flowen, Styles kicken wie ich?\\r\\nWie jetzt? Heutzutage will jeder mitspielen\\r\\nMcen und DJen, nur leider geht da nich' viel (ja, ja)\\r\\n\\r\\nHör' mir zu Digga, ahnma\\r\\nIch spitte seit ich rauskam aus meiner Mama\\r\\nDamals konntest du uns noch zu siebt sehen\\r\\nDann kam die erste LP, ich war siebzehn\\r\\nRap noch in Kinderschuhen, Größe höchstens zwanzig\\r\\nDanach der Beginner-Boom, ich war höchstens zwanzig\\r\\nEins, Zwo Mikrofon-Check\\r\\nUnd vor der Bühne plötzlich mehr als höchstens zwanzig\\r\\nJetzt gibt es Gangsterrap, Hipsterrap und die OGs\\r\\nDicker Rentner in der Trotzphase\\r\\nErzähl mir nicht es herrschen kalte dunkle Zeiten\\r\\nJammer mich nicht voll, Digga, Daunjacke Rotznase\\r\\nAlles ist gut, wie es ist\\r\\nAlter Fuchs, neues Fell, dicke Trommeln in mei'm Ohr\\r\\nHier hinter'm point of no return\\r\\nAuf halber Strecke zwischen weißt du noch und stell dir vor\\r\\n\\r\\nIch sag: Wie jetzt? Ihr Typen wollt rappen wie ich?\\r\\nDeluxemäßig flowen, Styles kicken wie ich?\\r\\nWie jetzt? Ihr Typen wollt schreiben wie ich?\\r\\nDie Leute live rocken, nur oft bleiben sie nicht\\r\\nIch sag: Wie jetzt? Ihr Typen wollt rappen wie ich?\\r\\nDeluxemäßig flowen, Styles kicken wie ich?\\r\\nWie jetzt? Heutzutage will jeder mitspielen\\r\\nMcen und DJen, nur leider geht da nich' viel (ja)\\r\\n\\r\\nWie jetzt? Ihr Typen wollt rappen wie ich?\\r\\nDeluxemäßig flowen, Styles kicken wie ich?\\r\\nWie jetzt? Ihr Typen wollt schreiben wie ich?\\r\\nDie Leute live rocken, nur oft bleiben sie nicht\\r\\nIch sag: Wie jetzt? Ihr Typen wollt rappen wie ich?\\r\\nDeluxemäßig flowen, Styles kicken wie ich?\\r\\nWie jetzt? Heutzutage will jeder mitspielen\\r\\nMcen und DJen, nur leider geht da nich' viel (ja)\\r\\n\\r\\nFoxy Music\\r\\n\\r\\nIch sag nie mehr: Nie mehr\\r\\nDenn vielleicht tust du's wieder\\r\\nIch sag nie mehr: Nie mehr\\r\\n\\r\\nIch sag nie mehr: Nie mehr\\r\\nDenn vielleicht kommt es wieder\\r\\nIch sag nie mehr: Nie mehr\\r\\n\\r\\nJa, ja, ich werde nie mehr glauben, alles hält für immer\\r\\nAusgenommen sind die Rolling Stones und die Beginner\\r\\nAnsonsten geht alles zu Ende - wie uns die Geschichte zeigt\\r\\nCheckt Eimsbush, Harald Schmidt und Lipton Ice\\r\\nUnd immer nur das Gute, das Böse stirbt nicht\\r\\nCheckt BMG, Beckmann und Eistee-Pfirsich\\r\\nAm Ende bleiben nur die Sachen, die ich öde finde\\r\\nWeil alle schönen Dinge, irgendwann flöten gingen\\r\\nAber warum, ich kriegs echt nich gerafft?\\r\\nGibt es da 'ne Freimaurerloge für schlechten Geschmack?\\r\\nEntertainmenttripplesixer, die alles töten was Spaß macht\\r\\nGesponsert von Sat1 und McDonalds und Karstadt\\r\\nDarf ich wegen denen nie mehr Aaliyah sehen\\r\\nDoch auf allen Kanälen läuft Shania Twain\\r\\nSpielen sie mit dem Showbiz wie mit Playmobil\\r\\nSchickt 'n Jigga in Rente, macht 'n Jacko pädophil\\r\\nIch sag, jemand muss sie stoppen, aber ich kann es nicht\\r\\nDenn sie kennen meine Stimme und sie kennen mein Gesicht, ja\\r\\n\\r\\nIch sag nie mehr: Nie mehr\\r\\nDenn vielleicht tust du's wieder\\r\\nIch sag nie mehr: Nie mehr\\r\\n\\r\\nIch sag nie mehr: Nie mehr\\r\\nDenn vielleicht kommt es wieder\\r\\nIch sag nie mehr: Nie mehr\\r\\n\\r\\nAh, yo, ah, yo, Digga\\r\\nIch hab noch nie wirklich gewusst, weshalb ich eigentlich lebe\\r\\nUnd wie es wär', wenn es das Leben und all die Scheiße nich' gäbe\\r\\nDoch über solche Dinge, wie: „Wieso sind wir hier?“\\r\\nWerd ich nie mehr in grellen Klassenzimmern philosophiern\\r\\nNie mehr morgens zwischen übereifrigen Kindern sitzen\\r\\nDie beim sich zu Wort melden, dumm mit dem Finger schnippen\\r\\nDas Gefühl haben, dass ich vor Mathe-Tests hatte\\r\\nDas Gefühl der Kopf is 'ne kaputte Festplatte\\r\\nJa, es gibt Zeiten, denen muss ich die rote Karte zeigen:\\r\\nZeiten mit wenig Spaß und ohne Schokoladenseiten\\r\\nWie jene als schicke Anti-Fa mit Läuse und Krätze\\r\\nAls ich im Alles-ist-scheiße-Style Häuser besetzte\\r\\nNach dem Motto „Hauptsache Anti“, doch gar nichts checken\\r\\nGingen wir gegen das System vegetarisch essen\\r\\nWas war ich nich damals für 'nen derber Spinner\\r\\nDennoch sind es Zeiten, an die ich mich gern erinner'\\r\\n\\r\\nIch sag nie mehr: Nie mehr\\r\\nDenn vielleicht tust du's wieder\\r\\nIch sag nie mehr: Nie mehr\\r\\n\\r\\nIch sag nie mehr: Nie mehr\\r\\nDenn vielleicht kommt es wieder\\r\\nIch sag nie mehr: Nie mehr (never say never again)\\r\\n\\r\\nNever, never say never again\\r\\nNever, never say never again\\r\\nNever, never say never again\\r\\nNever, never say never again (-ver again, -ver again, -ver again)\\r\\n\\r\\nJa, der eine kommt von da, wo sie Hosen aus Leder tragen\\r\\nDer andere aus der Stadt, aus der die Attentäter kamen\\r\\nDer dritte von kommt da, wo hm, naja aus Bremerhaven\\r\\nUnd zusammen machen sie Alarm wie 'n Peterwagen\\r\\nMoment mal, was erzählst du da den Leuten bloß Lederhosen?\\r\\nDie sind viel zu eng für mich wegen meinen mega Hoden\\r\\nMan verarscht mich deshalb auch, ich würd' in einer Gegend wohnen\\r\\nWo Militärs Versuche machen und Radioaktivität erproben\\r\\nEy yo, du meinst, dein Leben mit großen Hoden wär schwer\\r\\nMein Pimmel ist zwei Zentimeter vom Boden entfernt\\r\\nJa man, ich werde schreien: „Lobet den Herrn“\\r\\nWenn sie dreibeinige Hosen zur Mode erklären\\r\\nJa ja, mach du nur Witze, doch für mich ist es ein Grundproblem\\r\\nMeine Bowlingkugeln machen mir des Leben unbequem\\r\\nSchwimmen, Dicker, ist nicht, denn sonst würd' ich untergehen\\r\\nWie viele Kilo wiegen die denn so? So circa hundertzehn!\\r\\nMein Lieber, du bist nicht allein mit den Problemen\\r\\nMich nennen sie doch auch das Superdildophänomen\\r\\nMuss immer Großraumtaxi fahren und kann nie die Metro nehmen\\r\\nUnd brauche riesige Kondome aus Neopren\\r\\n\\r\\nI got the cleanest, meanest penis\\r\\nYou never seen this\\r\\nI've got big balls\\r\\nI got the cleanest, meanest penis\\r\\nYou never seen this\\r\\nBig balls today, okay?\\r\\nI got the cleanest, meanest penis\\r\\nYou never seen this\\r\\nI've got big balls\\r\\nI got the cleanest, meanest penis\\r\\nYou never seen this\\r\\nBig balls today, okay?\\r\\n\\r\\nKauft euch alle mal Boote, denn ich muss piseln, Leute\\r\\nMit meiner Riesenkeule, größer als die Siegessäule\\r\\nScheiße man, damit kriegst du sicher viele Bräute\\r\\nNe, die sind alle geplatzt wie Friedensträume\\r\\nDicker, ich dachte fette Eier wären bei Frauen 'e geile Taktik\\r\\nDer Abstand zwischen meinen Knien neun Meter dreiundachtzig\\r\\nDeshalb wundert's mich auch, dass ich niemals eine abkrieg\\r\\nWenn ich charmant am Lächeln vor ihnen auf meinem Sack sitz'\\r\\nSeit dem elften September leb' ich in Angst\\r\\nVielleicht stürzen die auch Flugzeuge auf meinen Schwanz\\r\\nDarum, seh ich was Verdächtiges in meiner Reichweite\\r\\nDann gibt 's 'ne Breitseite mit meiner Fleischpeitsche\\r\\n\\r\\nI got the cleanest, meanest penis\\r\\nYou never seen this\\r\\nI've got big balls\\r\\nI got the cleanest, meanest penis\\r\\nYou never seen this\\r\\nBig balls today, okay?\\r\\nI got the cleanest, meanest penis\\r\\nYou never seen this\\r\\nThough, I got the cleanest\\r\\nI got the cleanest, meanest penis\\r\\nYou never seen this stroke of genius\\r\\n\\r\\nEy, woher hast du diese Nikes, Eizi?\\r\\nIch wusste gar nicht, dass es die auch in weiß gibt\\r\\nDu sammelst schon seit vielen Jahren so fleißig\\r\\nWie viel Paare hast du? Neunhundertdreißig?\\r\\n\\r\\nIch komme raus aus dem Haus, schrei': „Yeah“\\r\\nAn meinen Füßen, da sind neue Nike Air\\r\\nAlle wollen wissen: „Digga, wo hast du die her?“\\r\\nIch krieg nie genug, Digga, ich will immer mehr\\r\\nAir Max und Dunks in meinem Schrank\\r\\nDenn ich bring meine Kohle lieber nicht zur Bank\\r\\nIch krieg nie genug, Digga, ich will immer mehr\\r\\nAlle wollen wissen: „Digga, wo hast du die her?“\\r\\n\\r\\nIch sag: „Falls es noch nicht jeder weiß\\r\\nIch rocke Air Max, denn die sind der Scheiß“\\r\\n90er, 1er oder auch Lites\\r\\nAus Hongkong und London und nicht von Snipes\\r\\nMein Ebay-Account, der läuft heiß\\r\\nIch kauf sie mir doppelt, weil ein Paar nicht reicht\\r\\nHemden und Hosen, die sitzen jetzt tight\\r\\nDoch an den Füßen, der Air Max, der bleibt\\r\\n\\r\\nIch komme raus aus dem Haus, schrei': „Yeah“\\r\\nAn meinen Füßen, da sind neue Nike Air\\r\\nAlle wollen wissen: „Digga, wo hast du die her?“\\r\\nIch krieg nie genug, Digga, ich will immer mehr\\r\\nAir Max und Dunks in meinem Schrank\\r\\nDenn ich bring meine Kohle lieber nicht zur Bank\\r\\nIch krieg nie genug, Digga, ich will immer mehr\\r\\nAlle wollen wissen: „Digga, wo hast du die her?“\\r\\n\\r\\nIch sag: „Andauernd muss ich zum Zoll“\\r\\nSie schütteln den Kopf, fragen mich, was das soll\\r\\nDas Fach von Herrn Eißfeldt, das ist immer voll\\r\\nOrange Kartons aus Paris und Stockholm\\r\\nLeder vom Rind und vom Strauß und vom Wolf\\r\\nIch hab sie in lila, in blau und in gold\\r\\nIch rocke sie fresh, Digga, und niemals oll\\r\\nTrete mir drauf und ich zieh' meinen Colt\\r\\n\\r\\nIch komme raus aus dem Haus, schrei': „Yeah“\\r\\nAn meinen Füßen, da sind neue Nike Air\\r\\nAlle wollen wissen: „Digga, wo hast du die her?“\\r\\nIch krieg nie genug, Digga, ich will immer mehr\\r\\nAir Max und Dunks in meinem Schrank\\r\\nDenn ich bring meine Kohle lieber nicht zur Bank\\r\\nIch krieg nie genug, Digga, ich will immer mehr\\r\\nAlle wollen wissen: „Digga, wo hast du die her?“\\r\\n\\r\\nEy, woher hast du diese Nikes, Eizi?\\r\\nIch wusste gar nicht, dass es die auch in weiß gibt\\r\\nDu sammelst schon seit vielen Jahren so fleißig\\r\\nWie viel Paare hast du? Neunhundertdreißig?\\r\\nEy, woher hast du diese Nikes, Eizi?\\r\\nIch wusste gar nicht, dass es die auch in weiß gibt\\r\\nDu sammelst schon seit vielen Jahren so fleißig\\r\\nWie viel Paare hast du? 930?\\r\\n\\r\\nFoxy Music\\r\\n\\r\\nThis is a lovesong\\r\\nThis is a lovesong\\r\\n\\r\\nThis is a lovesong\\r\\nThis is a, this is a love, this is a lovesong, lovesong, lovesong, lovesong\\r\\n\\r\\nIhr wollt ein Liebeslied, ihr kriegt ein Liebeslied\\r\\nEin Lied, das ihr liebt\\r\\nIhr wollt ein Liebeslied, ihr kriegt ein Liebeslied (Liebeslied)\\r\\nEin Lied, das ihr liebt\\r\\nIhr wollt ein Liebeslied, ihr kriegt ein Liebeslied (Liebeslied)\\r\\nEin Lied, das ihr liebt\\r\\n\\r\\nStreet love, dab n dad da da\\r\\nStreet love, dab n dad da da\\r\\nStreet love, dab n dad da da\\r\\nStreet love, dab n dad da da\\r\\n\\r\\nVoll erwischt, du Fisch zappelst am Haken\\r\\nHeute Nacht wirst du im Zelt vor'm Plattenladen warten\\r\\nDabei ein Radio, falls es nochmal wiederkommt\\r\\nSpontanes Desinteresse an all den anderen Liedern prompt\\r\\nDie alle gleich aussehen und zu viel Schminke nehmen\\r\\nAus fünfzig Wörtern wählen, um das gleiche zu erzählen\\r\\nMit Schönheitsoperationen an digitalen Konsolen\\r\\nStylemäßig immer wieder gut beraten von Polen\\r\\nFür dich gibt's nur noch eins und sonst keins\\r\\nUnd hält jemand nicht deins für Nummer eins\\r\\nSiehst du rot, wie Heinz und sperrst ihn ein\\r\\nQuälst ihn mit Simple Minds, bis er weint\\r\\n\\r\\nDas ist Liebe, das ist Liebe, das ist Liebe, das ist Liebe\\r\\nDas ist Liebe auf den ersten Kick\\r\\nNichtmal Drum 'n' Bass hält jetzt mit deinem Herzen mit\\r\\nUnser Beat hat „Boom“ gemacht (Unser Beat hat „Boom“ gemacht)\\r\\nUnd es hat „Zoom“ gemacht\\r\\n\\r\\nHast du im Leben nix in Petto, ist alles Ghetto\\r\\nDas heißt Glück brutto und Frust netto\\r\\nUnd im Gesicht' 'n Tränentattoo, ey, dann wird's Zeit für Musik\\r\\nWeil dann tanzt du, und fliegst durch die Plattenboutique\\r\\nUnd ist deine Freundin weg, dass heißt deine Ex\\r\\nIst der Griff zum lieben Lied der Beginner dein Reflex\\r\\nNicht mehr Seiten - sondern Sprünge auf der Platte\\r\\nKomm vor, bleib' entspannt, kauf 'ne Neue, is' doch Latte\\r\\nUnd sieht dein Leben manchmal doof aus\\r\\nMach's wie ich, hol' mein' Philosoph 'raus\\r\\nSchreib 'n Text, komm dann groß raus\\r\\nDu bist in mich verschossen, mein Pfeil hat dich getroffen\\r\\nNun bist du im Beginner-Rausch, früher warst du besoffen\\r\\nVon zu vielen Produzenten, denn egal, wie sie's schrauben\\r\\nNur dünne Tracks und Rap und Pipi in den Augen\\r\\nDeswegen drück ich selten auf die Tränendrüse\\r\\nWährend ich in den Charts Stehen übe\\r\\n\\r\\nIhr wollt ein Liebeslied, ihr kriegt ein Liebeslied (Liebeslied)\\r\\nEin Lied, das ihr liebt\\r\\nIhr wollt ein Liebeslied, ihr kriegt ein Liebeslied (Liebeslied)\\r\\nEin Lied, das ihr liebt\\r\\nIhr wollt ein Liebeslied, ihr kriegt ein Liebeslied (Liebeslied)\\r\\nEin Lied, das ihr liebt\\r\\n\\r\\nSay what, say w-w-w-w-what is the message?\\r\\nLove is the message\\r\\nLove is the message\\r\\nLove is the message\\r\\nLove is the message\\r\\nLove is the message\\r\\nLove is the message\\r\\nLove, love is the message\\r\\nLove is the message\\r\\nLove, love, love, love, love, love, love love\\r\\n\\r\\nFoxy Music\\r\\n\\r\\nI want, I want L. O. V. E. Love you\\r\\nI want K. I. S. S. Kiss you\\r\\n\\r\\nYeah, golden era, Foxy Music\\r\\nAlter Scheiß, geiler Scheiß\\r\\n\\r\\nYeah, yeah\\r\\nUnd sehr verehrte Ladies, liebe Rude Boys\\r\\nIch spreche zu euch aus dem Cockpit dieses Flugzeugs\\r\\nUnd sage: „Moin! Willkommen an Bord!\\r\\nMein Name ist Captain Eizi und ich habe das Wort“\\r\\nJa, wenn wir gleich starten, bitte alle rauchen\\r\\nWenn wir oben sind, ja, dann bitte alle saufen\\r\\nJa, hier wird die Optik noch groß geschrieben\\r\\nDamit ihr immer wieder Bock kriegt, mit uns loszufliegen\\r\\n\\r\\nOh ja, ey, ey, was geht 'n ab\\r\\nPackt eure Sachen, wir heben ab (ok)\\r\\nZusammen zur Freiheit (zusammen)\\r\\nSchön, dass ihr dabei seid\\r\\nIch sag, ey, ey, was geht 'n ab\\r\\nPackt eure Sachen, wir heben ab\\r\\nZusammen zur Freiheit\\r\\nSchön, dass ihr dabei seid\\r\\n\\r\\nWir bestimmen, wo 's lang geht, Leute sagt was an\\r\\nEgal, ob Timbuktu oder Kasachstan\\r\\nParis, New York, Amsterdam und Berlin\\r\\nEinfach mal raus aus dem Loch wie Saddam Hussein\\r\\nWir bringen euch zurück ins Glück\\r\\nUnd wollt ihr noch 'nen Trip, dann wird zurück geskippt\\r\\nDas Ticket kommt aus der Box und geht rein ins Ohr\\r\\nIch scheiß auf Miles and More und flieg mit Styles galore\\r\\n\\r\\nOh ja, ey, ey, was geht 'n ab\\r\\nPackt eure Sachen, wir heben ab\\r\\nZusammen zur Freiheit\\r\\nSchön, dass ihr dabei seid\\r\\nIch sag, ey, ey, was geht 'n ab\\r\\nPackt eure Sachen, wir heben ab\\r\\nZusammen zur Freiheit\\r\\nSchön, dass ihr dabei seid\\r\\n\\r\\nEy, ey, was geht 'n ab\\r\\nPackt eure Sachen, wir heben ab\\r\\nZusammen zur Freiheit\\r\\nSchön, dass ihr dabei seid\\r\\nIch sag, ey, ey, was geht 'n ab\\r\\nPackt eure Sachen, wir heben ab\\r\\nZusammen zur Freiheit\\r\\nSchön, dass ihr dabei seid\\r\\n\\r\\nDer Mond ist unsre Sonne\\r\\nOh ja, wir benötigen kein Licht\\r\\nOh nein, nur Dunkelheit und Stille\\r\\nIch sag: „Mehr brauchen wir nicht!“\\r\\n\\r\\nAh, yo\\r\\nNeben mir den Sohn im Bett, über mir den Mond in Sicht\\r\\nHinter mir ein harter Tag, aufzubleiben, heut' lohnt es sich\\r\\nNachts vermiss' ich Sonne, doch Tags vermiss' Fairplay\\r\\nDenn leb' ich nachts, heb ich ab wie Britisch Airways, Mensch\\r\\nDann hab ich mehr Ideen als 'n ganzes Patentamt\\r\\nMit Raps vom Derbsten und brennenden Kerzen am Adventskranz\\r\\nUnd hab statt Bock auf 'n Bett, Bock auf Rap, während ich wachliege\\r\\nWieder aufsteh', den Sound aufdreh' und den Krach liebe\\r\\nWir sind keine Machtmenschen, wir sind Nachtmenschen\\r\\nWir wollen uns und euch für den nächsten Tag Kraft spenden\\r\\nDas hat wenig zu tun mit Saufen gehen und Party machen\\r\\nMorgenstund' hat Gold im Mund, doch Abendstund' macht Platinplatten\\r\\nUnd während der Mond scheint wie die Sonne\\r\\nSchmeiß ich den Müll von tagsüber einfach rein in die Tonne\\r\\nIch schmied 'nen Plan, während ich mir von morgen 'n Bild mache\\r\\nLeo in den Arm wie früher mit 'ner Milchflasche\\r\\nDie Große zur Schule bringen, den Kleinen in den Kindergarten\\r\\nUnd danach 'n paar Stunden für meine Beginner haben\\r\\nIch freu mich drauf, während meine Frau schläft und ich Texte schreib'\\r\\nDennoch bleib' ich wach bis die Sonne aufgeht wie Blätterteig\\r\\n\\r\\nDer Mond ist unsre Sonne\\r\\nOh ja, wir benötigen kein Licht\\r\\nOh nein, nur Dunkelheit und Stille\\r\\nIch sag: „Mehr brauchen wir nicht!“\\r\\n\\r\\nIch sag: „Wenn die Sonne unter und der Mond aufgeht\\r\\nDas ist der Moment, wo Eizi Eiz auflebt“\\r\\nUnd rausgeht mit dem Fahrrad durch sein Viertel cruist\\r\\nDenn Eimsbüttel ist es am schönsten, wenn Eimsbüttel ruht\\r\\nWenn alle schlafen ,die Penner und die Millionäre\\r\\nDie Straßen leer wie bei Küblböck die Kinosäle\\r\\nOh ja man, ich mag es genau so\\r\\nAlles lautlos und keine Autos\\r\\nFreie Fahrt für den Typ aufm Rad\\r\\nMit dem iPod am Start, Volume auf Anschlag\\r\\nBergab, vierspurig, ich fahr' Schlangenlinien\\r\\nSo kann es weitergehen, von mir aus bis nach Argentinien\\r\\nFrische Luft um die Ohren, die den Kopf reinigt\\r\\nDarum ist mir jede Nacht wie ein Gott heilig\\r\\nDenn nur zu so unchristlichen Zeiten\\r\\nKann ich stylen und feilen an Meilensteinen, ja\\r\\n\\r\\nDer Mond ist unsere Sonne (ja, mann)\\r\\nOh ja, wir benötigen kein Licht\\r\\nOh nein, nur Dunkelheit und Stille\\r\\nIch sag: „Mehr brauchen wir nicht!“\\r\\n\\r\\nNe man, mehr nicht\\r\\nUnd auch wenn er sich versteckt hält\\r\\nWer denn?\\r\\nHinter Wolken und Beton\\r\\nAch ja, der Mond, ich bin stoned\\r\\nDann wird er immer für uns dasein\\r\\nOh ja, bis die Morgensonne kommt\\r\\n\\r\\nThe mind, the mind, the mind\\r\\nThe mind of a child is a beginner's mind \\r\\nAnd beginner's mind is about having sort of an attitude of \\r\\nOpenness and eagerness and a lack of preconceptions\\r\\nWhen it comes to studying a subject\\r\\nIn the beginner's mind there are many possibilities\\r\\nIn the expert's mind there are few\\r\\nSo by approaching a subject the way a beginner or a child would\\r\\nWe start to open up possibilities and we lead ourselves open to a\\r\\nWell, who knows what\\r\\nRight?\""
      ]
     },
     "execution_count": 68,
     "metadata": {},
     "output_type": "execute_result"
    }
   ],
   "source": [
    "df[\"Lyrics\"].iloc[248208]"
   ]
  },
  {
   "cell_type": "markdown",
   "id": "6b68fcee",
   "metadata": {},
   "source": [
    "## StopWord"
   ]
  },
  {
   "cell_type": "code",
   "execution_count": 2,
   "id": "47b778aa",
   "metadata": {},
   "outputs": [],
   "source": [
    "import nltk\n",
    "from nltk.corpus import stopwords\n",
    "sw = stopwords.words('english')"
   ]
  },
  {
   "cell_type": "code",
   "execution_count": 9,
   "id": "3a381bff",
   "metadata": {},
   "outputs": [],
   "source": [
    "def count_stopword(x):\n",
    "    res = []\n",
    "    for i in x.split():\n",
    "        if i in sw : \n",
    "            res.append(i)\n",
    "    return res\n",
    "def sum_stopword(c_sw,dsc):\n",
    "    \n",
    "    res = {}\n",
    "    for i in c_sw:\n",
    "        for j in i : \n",
    "            if j in res:\n",
    "                res[j] += 1\n",
    "            else:\n",
    "                res[j] = 1\n",
    "    return sorted(res.items(), key=lambda x:x[1], reverse=dsc)"
   ]
  },
  {
   "cell_type": "code",
   "execution_count": 78,
   "id": "716112cb",
   "metadata": {},
   "outputs": [],
   "source": [
    "c_sw = df['Lyrics'].fillna(\"\").apply(count_stopword)"
   ]
  },
  {
   "cell_type": "code",
   "execution_count": 111,
   "id": "ab8a8d61",
   "metadata": {},
   "outputs": [],
   "source": [
    "sum_sw_asc = sum_stopword(c_sw,False)\n",
    "sum_sw_dsc = sum_stopword(c_sw,True)"
   ]
  },
  {
   "cell_type": "code",
   "execution_count": 132,
   "id": "9bbbdcf9",
   "metadata": {},
   "outputs": [
    {
     "data": {
      "image/png": "[encoded data removed]",
      "text/plain": [
       "<Figure size 1296x576 with 2 Axes>"
      ]
     },
     "metadata": {
      "needs_background": "light"
     },
     "output_type": "display_data"
    }
   ],
   "source": [
    "asc_x,asc_y = zip(*sum_sw_asc)\n",
    "dsc_x,dsc_y = zip(*sum_sw_dsc)\n",
    "\n",
    "fig, ax = plt.subplots(1,2, figsize=(18,8))\n",
    "sns.barplot(y=list(dsc_x)[:30], x=list(dsc_y)[:30], orient='h', palette=\"Reds_d\", ax=ax[0])\n",
    "sns.barplot(y=list(asc_x)[:30], x=list(asc_y)[:30], orient='h', palette=\"Blues_d\", ax=ax[1]) \n",
    "ax[0].set_title(\"Top 30 Stop Words\")\n",
    "ax[0].set_xlabel(\"Stop Word Frequency\")\n",
    "ax[1].set_title(\"Bottom 30 Stop Words\")\n",
    "ax[1].set_xlabel(\"Stop Word Frequency\")\n",
    "plt.tight_layout()\n",
    "plt.show()"
   ]
  },
  {
   "cell_type": "markdown",
   "id": "395faca6",
   "metadata": {},
   "source": [
    "## Punctuation"
   ]
  },
  {
   "cell_type": "code",
   "execution_count": 16,
   "id": "aaf031a4",
   "metadata": {},
   "outputs": [],
   "source": [
    "punc_list = string.punctuation\n",
    "def count_punc():\n",
    "    res = {}\n",
    "    for i in df['Lyrics'].fillna(\"\"):\n",
    "        for j in list(i):\n",
    "            if j in list(punc_list):\n",
    "                if j in res:\n",
    "                    res[j] += 1\n",
    "                else :\n",
    "                    res[j] = 1\n",
    "    return res"
   ]
  },
  {
   "cell_type": "code",
   "execution_count": 17,
   "id": "9492ffe7",
   "metadata": {},
   "outputs": [],
   "source": [
    "punct_sum = count_punc()"
   ]
  },
  {
   "cell_type": "code",
   "execution_count": 75,
   "id": "536bd57e",
   "metadata": {},
   "outputs": [
    {
     "data": {
      "image/png": "[encoded data removed]",
      "text/plain": [
       "<Figure size 1440x1152 with 1 Axes>"
      ]
     },
     "metadata": {
      "needs_background": "light"
     },
     "output_type": "display_data"
    }
   ],
   "source": [
    "sort_punc = sorted(punct_sum.items(), key=lambda x:x[1], reverse=True)\n",
    "punc_x,punc_y = zip(*sort_punc)\n",
    "plt.figure(figsize=(20,16))\n",
    "sns.barplot(x=list(punc_y)[:10],y=list(punc_x)[:10])\n",
    "plt.title(\"Top 10 Punctuation\")\n",
    "plt.xlabel(\"count\")\n",
    "plt.show()"
   ]
  },
  {
   "cell_type": "code",
   "execution_count": 55,
   "id": "8d071c96",
   "metadata": {},
   "outputs": [
    {
     "data": {
      "text/html": [
       "<div>\n",
       "<style scoped>\n",
       "    .dataframe tbody tr th:only-of-type {\n",
       "        vertical-align: middle;\n",
       "    }\n",
       "\n",
       "    .dataframe tbody tr th {\n",
       "        vertical-align: top;\n",
       "    }\n",
       "\n",
       "    .dataframe thead th {\n",
       "        text-align: right;\n",
       "    }\n",
       "</style>\n",
       "<table border=\"1\" class=\"dataframe\">\n",
       "  <thead>\n",
       "    <tr style=\"text-align: right;\">\n",
       "      <th></th>\n",
       "      <th>0</th>\n",
       "      <th>1</th>\n",
       "    </tr>\n",
       "  </thead>\n",
       "  <tbody>\n",
       "    <tr>\n",
       "      <th>0</th>\n",
       "      <td>'</td>\n",
       "      <td>6806988</td>\n",
       "    </tr>\n",
       "    <tr>\n",
       "      <th>1</th>\n",
       "      <td>,</td>\n",
       "      <td>5638354</td>\n",
       "    </tr>\n",
       "    <tr>\n",
       "      <th>2</th>\n",
       "      <td>.</td>\n",
       "      <td>1187127</td>\n",
       "    </tr>\n",
       "    <tr>\n",
       "      <th>3</th>\n",
       "      <td>-</td>\n",
       "      <td>632170</td>\n",
       "    </tr>\n",
       "    <tr>\n",
       "      <th>4</th>\n",
       "      <td>(</td>\n",
       "      <td>599583</td>\n",
       "    </tr>\n",
       "    <tr>\n",
       "      <th>5</th>\n",
       "      <td>)</td>\n",
       "      <td>599572</td>\n",
       "    </tr>\n",
       "    <tr>\n",
       "      <th>6</th>\n",
       "      <td>?</td>\n",
       "      <td>579348</td>\n",
       "    </tr>\n",
       "    <tr>\n",
       "      <th>7</th>\n",
       "      <td>!</td>\n",
       "      <td>318706</td>\n",
       "    </tr>\n",
       "    <tr>\n",
       "      <th>8</th>\n",
       "      <td>\"</td>\n",
       "      <td>229077</td>\n",
       "    </tr>\n",
       "    <tr>\n",
       "      <th>9</th>\n",
       "      <td>[</td>\n",
       "      <td>154292</td>\n",
       "    </tr>\n",
       "  </tbody>\n",
       "</table>\n",
       "</div>"
      ],
      "text/plain": [
       "   0        1\n",
       "0  '  6806988\n",
       "1  ,  5638354\n",
       "2  .  1187127\n",
       "3  -   632170\n",
       "4  (   599583\n",
       "5  )   599572\n",
       "6  ?   579348\n",
       "7  !   318706\n",
       "8  \"   229077\n",
       "9  [   154292"
      ]
     },
     "execution_count": 55,
     "metadata": {},
     "output_type": "execute_result"
    }
   ],
   "source": [
    "pd.DataFrame(sort_punc)[:10]"
   ]
  },
  {
   "cell_type": "markdown",
   "id": "0ce9b099",
   "metadata": {},
   "source": [
    "## Grams"
   ]
  },
  {
   "cell_type": "code",
   "execution_count": 12,
   "id": "00ca4176",
   "metadata": {},
   "outputs": [],
   "source": [
    "def count_non_stopword(x):\n",
    "    res = []\n",
    "    for i in x.split():\n",
    "        if i not in sw : \n",
    "            res.append(i)\n",
    "    return res\n",
    "\n",
    "def sum_non_stopword(gram):\n",
    "    res= {}\n",
    "    for i in gram:\n",
    "        for j in i:\n",
    "            if j in res:\n",
    "                res[j] +=1\n",
    "            else :\n",
    "                res[j] = 1\n",
    "    return res\n"
   ]
  },
  {
   "cell_type": "code",
   "execution_count": 60,
   "id": "1350191b",
   "metadata": {},
   "outputs": [],
   "source": [
    "unigram = df['Lyrics'].fillna(\"\").apply(count_non_stopword)"
   ]
  },
  {
   "cell_type": "code",
   "execution_count": 70,
   "id": "04f62ebd",
   "metadata": {},
   "outputs": [],
   "source": [
    "sum_unigram = sum_non_stopword(unigram)\n",
    "sorted_sum_unigram = sorted(sum_unigram.items(), key=lambda x:x[1] , reverse=True)"
   ]
  },
  {
   "cell_type": "code",
   "execution_count": 72,
   "id": "f069c697",
   "metadata": {},
   "outputs": [],
   "source": [
    "uni_x,uni_y = zip(*sorted_sum_unigram)"
   ]
  },
  {
   "cell_type": "code",
   "execution_count": 78,
   "id": "2f7e68b0",
   "metadata": {},
   "outputs": [
    {
     "data": {
      "image/png": "[encoded data removed]",
      "text/plain": [
       "<Figure size 1440x1152 with 1 Axes>"
      ]
     },
     "metadata": {
      "needs_background": "light"
     },
     "output_type": "display_data"
    }
   ],
   "source": [
    "plt.figure(figsize=(20,16))\n",
    "sns.barplot(x=list(uni_y)[:30],y=list(uni_x)[:30])\n",
    "plt.title(\"Top 30 unigrams non stopword\")\n",
    "plt.xlabel(\"Count\")\n",
    "plt.show()"
   ]
  },
  {
   "cell_type": "code",
   "execution_count": 10,
   "id": "8a82c02d",
   "metadata": {},
   "outputs": [],
   "source": [
    "def count_bigrams(x):\n",
    "    return ngrams(x.split(),2)\n",
    "\n",
    "    \n",
    "bigrams = df[\"Lyrics\"].fillna(\"\").apply(count_bigrams)"
   ]
  },
  {
   "cell_type": "code",
   "execution_count": 13,
   "id": "5c3826ca",
   "metadata": {},
   "outputs": [],
   "source": [
    "sum_bigrams = sum_non_stopword(bigrams)\n",
    "sorted_sum_bigrams = sorted(sum_bigrams.items(), key=lambda x:x[1] , reverse=True)"
   ]
  },
  {
   "cell_type": "code",
   "execution_count": 17,
   "id": "796d4ac4",
   "metadata": {},
   "outputs": [],
   "source": [
    "big_x,big_y = zip(*sorted_sum_bigrams[:30])"
   ]
  },
  {
   "cell_type": "code",
   "execution_count": 29,
   "id": "8c2aa256",
   "metadata": {},
   "outputs": [
    {
     "data": {
      "image/png": "[encoded data removed]",
      "text/plain": [
       "<Figure size 1440x1152 with 1 Axes>"
      ]
     },
     "metadata": {
      "needs_background": "light"
     },
     "output_type": "display_data"
    }
   ],
   "source": [
    "def join_bigrams(sort_gram):\n",
    "    res = []\n",
    "    for i in sort_gram:\n",
    "        res.append(\" \".join(i))\n",
    "    return res\n",
    "\n",
    "plt.figure(figsize=(20,16))\n",
    "sns.barplot(x=list(big_y),y=join_bigrams(big_x))\n",
    "plt.title(\"Top 30 bigrams non stopword\")\n",
    "plt.xlabel(\"Count\")\n",
    "plt.show()"
   ]
  },
  {
   "cell_type": "markdown",
   "id": "d015a253",
   "metadata": {},
   "source": [
    "# Training Model"
   ]
  },
  {
   "cell_type": "markdown",
   "id": "27f8c0c5",
   "metadata": {},
   "source": [
    "## Data Selection"
   ]
  },
  {
   "cell_type": "code",
   "execution_count": 167,
   "id": "0f476b99",
   "metadata": {},
   "outputs": [
    {
     "name": "stdout",
     "output_type": "stream",
     "text": [
      "Total Data : 516174\n"
     ]
    }
   ],
   "source": [
    "print(\"Total Data : {}\".format(len(df)))\n",
    "df_selected = df.sample(n = 10000)"
   ]
  },
  {
   "cell_type": "code",
   "execution_count": 168,
   "id": "fe69b4a4",
   "metadata": {},
   "outputs": [
    {
     "name": "stdout",
     "output_type": "stream",
     "text": [
      "Total Selected Data : 10000\n"
     ]
    }
   ],
   "source": [
    "print(\"Total Selected Data : {}\".format(len(df_selected)))\n",
    "df_selected.to_csv(\"selected_data.csv\",index=False)"
   ]
  },
  {
   "cell_type": "code",
   "execution_count": 3,
   "id": "7d0c2a9c",
   "metadata": {},
   "outputs": [
    {
     "data": {
      "text/html": [
       "<div>\n",
       "<style scoped>\n",
       "    .dataframe tbody tr th:only-of-type {\n",
       "        vertical-align: middle;\n",
       "    }\n",
       "\n",
       "    .dataframe tbody tr th {\n",
       "        vertical-align: top;\n",
       "    }\n",
       "\n",
       "    .dataframe thead th {\n",
       "        text-align: right;\n",
       "    }\n",
       "</style>\n",
       "<table border=\"1\" class=\"dataframe\">\n",
       "  <thead>\n",
       "    <tr style=\"text-align: right;\">\n",
       "      <th></th>\n",
       "      <th>Band</th>\n",
       "      <th>Lyrics</th>\n",
       "      <th>Song</th>\n",
       "    </tr>\n",
       "  </thead>\n",
       "  <tbody>\n",
       "    <tr>\n",
       "      <th>0</th>\n",
       "      <td>Aya</td>\n",
       "      <td>looking for the sun\\r\\nlooking for the sunshin...</td>\n",
       "      <td>Looking for the Sun</td>\n",
       "    </tr>\n",
       "    <tr>\n",
       "      <th>1</th>\n",
       "      <td>Luis Miguel</td>\n",
       "      <td>no sé qué está pasando\\r\\nque todo está al rev...</td>\n",
       "      <td>Sera Que No Me Amas (Blame It on the Boogie)</td>\n",
       "    </tr>\n",
       "    <tr>\n",
       "      <th>2</th>\n",
       "      <td>Wayne Kerr</td>\n",
       "      <td>if ever you got rain in your heart, \\r\\nsomeon...</td>\n",
       "      <td>Run to You</td>\n",
       "    </tr>\n",
       "    <tr>\n",
       "      <th>3</th>\n",
       "      <td>Rush</td>\n",
       "      <td>and the men who hold high places\\r\\nmust be th...</td>\n",
       "      <td>Closer to the Heart [Rush in Rio]</td>\n",
       "    </tr>\n",
       "    <tr>\n",
       "      <th>4</th>\n",
       "      <td>Blur</td>\n",
       "      <td>i see her face\\r\\neveryday\\r\\ni see her face\\r...</td>\n",
       "      <td>She's So High [Seymour Rehersal]</td>\n",
       "    </tr>\n",
       "    <tr>\n",
       "      <th>...</th>\n",
       "      <td>...</td>\n",
       "      <td>...</td>\n",
       "      <td>...</td>\n",
       "    </tr>\n",
       "    <tr>\n",
       "      <th>9995</th>\n",
       "      <td>Cinerama</td>\n",
       "      <td>you got a thing about you\\ni just can't live w...</td>\n",
       "      <td>Elenore</td>\n",
       "    </tr>\n",
       "    <tr>\n",
       "      <th>9996</th>\n",
       "      <td>Ednita Nazario</td>\n",
       "      <td>es vanidad, quizás pensar que abra más y quere...</td>\n",
       "      <td>Voy</td>\n",
       "    </tr>\n",
       "    <tr>\n",
       "      <th>9997</th>\n",
       "      <td>Litfiba</td>\n",
       "      <td>tic toc, tic toc, maria si sveglia\\r\\nla notte...</td>\n",
       "      <td>Maria Coraggio</td>\n",
       "    </tr>\n",
       "    <tr>\n",
       "      <th>9998</th>\n",
       "      <td>The Lemonheads</td>\n",
       "      <td>she's coming over,\\r\\nwe'll go out walking,\\r\\...</td>\n",
       "      <td>My Drug Buddy</td>\n",
       "    </tr>\n",
       "    <tr>\n",
       "      <th>9999</th>\n",
       "      <td>Johnny Winter</td>\n",
       "      <td>have you heard of the good love\\r\\ndo it and y...</td>\n",
       "      <td>The Good Love</td>\n",
       "    </tr>\n",
       "  </tbody>\n",
       "</table>\n",
       "<p>10000 rows × 3 columns</p>\n",
       "</div>"
      ],
      "text/plain": [
       "                Band                                             Lyrics  \\\n",
       "0                Aya  looking for the sun\\r\\nlooking for the sunshin...   \n",
       "1        Luis Miguel  no sé qué está pasando\\r\\nque todo está al rev...   \n",
       "2         Wayne Kerr  if ever you got rain in your heart, \\r\\nsomeon...   \n",
       "3               Rush  and the men who hold high places\\r\\nmust be th...   \n",
       "4               Blur  i see her face\\r\\neveryday\\r\\ni see her face\\r...   \n",
       "...              ...                                                ...   \n",
       "9995        Cinerama  you got a thing about you\\ni just can't live w...   \n",
       "9996  Ednita Nazario  es vanidad, quizás pensar que abra más y quere...   \n",
       "9997         Litfiba  tic toc, tic toc, maria si sveglia\\r\\nla notte...   \n",
       "9998  The Lemonheads  she's coming over,\\r\\nwe'll go out walking,\\r\\...   \n",
       "9999   Johnny Winter  have you heard of the good love\\r\\ndo it and y...   \n",
       "\n",
       "                                              Song  \n",
       "0                              Looking for the Sun  \n",
       "1     Sera Que No Me Amas (Blame It on the Boogie)  \n",
       "2                                       Run to You  \n",
       "3                Closer to the Heart [Rush in Rio]  \n",
       "4                 She's So High [Seymour Rehersal]  \n",
       "...                                            ...  \n",
       "9995                                       Elenore  \n",
       "9996                                           Voy  \n",
       "9997                                Maria Coraggio  \n",
       "9998                                 My Drug Buddy  \n",
       "9999                                 The Good Love  \n",
       "\n",
       "[10000 rows x 3 columns]"
      ]
     },
     "execution_count": 3,
     "metadata": {},
     "output_type": "execute_result"
    }
   ],
   "source": [
    "df_selected = pd.read_csv(\"selected_data.csv\")\n",
    "df_selected"
   ]
  },
  {
   "cell_type": "markdown",
   "id": "88106935",
   "metadata": {},
   "source": [
    "## Pre-Processing"
   ]
  },
  {
   "cell_type": "code",
   "execution_count": 4,
   "id": "a55b9aad",
   "metadata": {},
   "outputs": [],
   "source": [
    "from nltk.tokenize import word_tokenize\n",
    "\n",
    "def lowering_case(dataframe):\n",
    "    dataframe = dataframe.fillna(\"\").applymap(lambda x:x.lower())\n",
    "    return dataframe\n",
    "\n",
    "def delete_escape_character(dataframe):\n",
    "    return dataframe.replace(to_replace=\"\\r|\\n\",value=\" \",regex=True) \n",
    "\n",
    "def remove_punctuation(dataframe):\n",
    "    dataframe[['Lyrics','Song']] = dataframe[['Lyrics','Song']].replace(to_replace=\"[^\\w\\s]\",value=\"\",regex=True)\n",
    "    return dataframe\n",
    "\n",
    "def remove_stopword(dataframe):\n",
    "    dataframe['Lyrics'] = dataframe['Lyrics'].apply(lambda x: \" \".join([i for i in x.split() if i not in sw]))\n",
    "    return dataframe"
   ]
  },
  {
   "cell_type": "code",
   "execution_count": 5,
   "id": "5a5c21f0",
   "metadata": {},
   "outputs": [],
   "source": [
    "clean_df = lowering_case(df_selected)\n",
    "clean_df = delete_escape_character(clean_df)\n",
    "clean_df = remove_stopword(clean_df)\n",
    "clean_df = remove_punctuation(clean_df)"
   ]
  },
  {
   "cell_type": "code",
   "execution_count": 6,
   "id": "a3393572",
   "metadata": {},
   "outputs": [
    {
     "data": {
      "text/html": [
       "<div>\n",
       "<style scoped>\n",
       "    .dataframe tbody tr th:only-of-type {\n",
       "        vertical-align: middle;\n",
       "    }\n",
       "\n",
       "    .dataframe tbody tr th {\n",
       "        vertical-align: top;\n",
       "    }\n",
       "\n",
       "    .dataframe thead th {\n",
       "        text-align: right;\n",
       "    }\n",
       "</style>\n",
       "<table border=\"1\" class=\"dataframe\">\n",
       "  <thead>\n",
       "    <tr style=\"text-align: right;\">\n",
       "      <th></th>\n",
       "      <th>Band</th>\n",
       "      <th>Lyrics</th>\n",
       "      <th>Song</th>\n",
       "    </tr>\n",
       "  </thead>\n",
       "  <tbody>\n",
       "    <tr>\n",
       "      <th>0</th>\n",
       "      <td>aya</td>\n",
       "      <td>looking sun looking sunshine looking sun looki...</td>\n",
       "      <td>looking for the sun</td>\n",
       "    </tr>\n",
       "    <tr>\n",
       "      <th>1</th>\n",
       "      <td>luis miguel</td>\n",
       "      <td>sé qué está pasando que todo está al revés que...</td>\n",
       "      <td>sera que no me amas blame it on the boogie</td>\n",
       "    </tr>\n",
       "    <tr>\n",
       "      <th>2</th>\n",
       "      <td>wayne kerr</td>\n",
       "      <td>ever got rain heart someone hurt you torn apar...</td>\n",
       "      <td>run to you</td>\n",
       "    </tr>\n",
       "    <tr>\n",
       "      <th>3</th>\n",
       "      <td>rush</td>\n",
       "      <td>men hold high places must ones start mold new ...</td>\n",
       "      <td>closer to the heart rush in rio</td>\n",
       "    </tr>\n",
       "    <tr>\n",
       "      <th>4</th>\n",
       "      <td>blur</td>\n",
       "      <td>see face everyday see face help see face every...</td>\n",
       "      <td>shes so high seymour rehersal</td>\n",
       "    </tr>\n",
       "    <tr>\n",
       "      <th>...</th>\n",
       "      <td>...</td>\n",
       "      <td>...</td>\n",
       "      <td>...</td>\n",
       "    </tr>\n",
       "    <tr>\n",
       "      <th>9995</th>\n",
       "      <td>cinerama</td>\n",
       "      <td>got thing cant live without really want elenor...</td>\n",
       "      <td>elenore</td>\n",
       "    </tr>\n",
       "    <tr>\n",
       "      <th>9996</th>\n",
       "      <td>ednita nazario</td>\n",
       "      <td>es vanidad quizás pensar que abra más querer a...</td>\n",
       "      <td>voy</td>\n",
       "    </tr>\n",
       "    <tr>\n",
       "      <th>9997</th>\n",
       "      <td>litfiba</td>\n",
       "      <td>tic toc tic toc maria si sveglia la notte è lu...</td>\n",
       "      <td>maria coraggio</td>\n",
       "    </tr>\n",
       "    <tr>\n",
       "      <th>9998</th>\n",
       "      <td>the lemonheads</td>\n",
       "      <td>coming over well go walking make call way phon...</td>\n",
       "      <td>my drug buddy</td>\n",
       "    </tr>\n",
       "    <tr>\n",
       "      <th>9999</th>\n",
       "      <td>johnny winter</td>\n",
       "      <td>heard good love better tell id take thousand t...</td>\n",
       "      <td>the good love</td>\n",
       "    </tr>\n",
       "  </tbody>\n",
       "</table>\n",
       "<p>10000 rows × 3 columns</p>\n",
       "</div>"
      ],
      "text/plain": [
       "                Band                                             Lyrics  \\\n",
       "0                aya  looking sun looking sunshine looking sun looki...   \n",
       "1        luis miguel  sé qué está pasando que todo está al revés que...   \n",
       "2         wayne kerr  ever got rain heart someone hurt you torn apar...   \n",
       "3               rush  men hold high places must ones start mold new ...   \n",
       "4               blur  see face everyday see face help see face every...   \n",
       "...              ...                                                ...   \n",
       "9995        cinerama  got thing cant live without really want elenor...   \n",
       "9996  ednita nazario  es vanidad quizás pensar que abra más querer a...   \n",
       "9997         litfiba  tic toc tic toc maria si sveglia la notte è lu...   \n",
       "9998  the lemonheads  coming over well go walking make call way phon...   \n",
       "9999   johnny winter  heard good love better tell id take thousand t...   \n",
       "\n",
       "                                            Song  \n",
       "0                            looking for the sun  \n",
       "1     sera que no me amas blame it on the boogie  \n",
       "2                                     run to you  \n",
       "3                closer to the heart rush in rio  \n",
       "4                  shes so high seymour rehersal  \n",
       "...                                          ...  \n",
       "9995                                     elenore  \n",
       "9996                                         voy  \n",
       "9997                              maria coraggio  \n",
       "9998                               my drug buddy  \n",
       "9999                               the good love  \n",
       "\n",
       "[10000 rows x 3 columns]"
      ]
     },
     "execution_count": 6,
     "metadata": {},
     "output_type": "execute_result"
    }
   ],
   "source": [
    "clean_df"
   ]
  },
  {
   "cell_type": "code",
   "execution_count": 7,
   "id": "66ee06e0",
   "metadata": {},
   "outputs": [
    {
     "name": "stdout",
     "output_type": "stream",
     "text": [
      "sample length before cleaning : 616\n",
      "sample length after cleaning : 330\n"
     ]
    }
   ],
   "source": [
    "import random\n",
    "random_index = random.randint(0,len(df_selected)-1)\n",
    "print(\"sample length before cleaning : {}\".format(len(list(df_selected[\"Lyrics\"].iloc[random_index]))))\n",
    "print(\"sample length after cleaning : {}\".format(len(list(clean_df[\"Lyrics\"].iloc[random_index]))))\n"
   ]
  },
  {
   "cell_type": "code",
   "execution_count": 8,
   "id": "52d9897e",
   "metadata": {},
   "outputs": [
    {
     "name": "stdout",
     "output_type": "stream",
     "text": [
      "sample cleaned lyrics : \n"
     ]
    },
    {
     "data": {
      "text/plain": [
       "'every time rains rains pennies heaven know cloud contains pennies heaven find fortune fallin town sure umbrella upside trade package sunshine flowers want things love must showers hear thunder run tree therell pennies heaven trade package sunshine flowers want things love must showers hear thunder run tree therell pennies heaven'"
      ]
     },
     "execution_count": 8,
     "metadata": {},
     "output_type": "execute_result"
    }
   ],
   "source": [
    "print(\"sample cleaned lyrics : \")\n",
    "clean_df[\"Lyrics\"].iloc[random_index]"
   ]
  },
  {
   "cell_type": "code",
   "execution_count": 9,
   "id": "af54a793",
   "metadata": {},
   "outputs": [],
   "source": [
    "from sklearn.feature_extraction.text import TfidfVectorizer\n",
    "from nltk.stem.porter import PorterStemmer\n",
    "stemmer = PorterStemmer()\n",
    "def stem_words(words_list, stemmer):\n",
    "    return [stemmer.stem(word) for word in words_list]\n",
    "\n",
    "def tokenize(text):\n",
    "    tokens = nltk.word_tokenize(text)\n",
    "    stems = stem_words(tokens, stemmer)\n",
    "    return stems\n",
    "\n",
    "tfidf_vectorizer = TfidfVectorizer(tokenizer=tokenize)\n",
    "tfs = tfidf_vectorizer.fit_transform(clean_df[\"Lyrics\"])"
   ]
  },
  {
   "cell_type": "markdown",
   "id": "f9830c32",
   "metadata": {},
   "source": [
    "## Save Vectorization Result"
   ]
  },
  {
   "cell_type": "code",
   "execution_count": 11,
   "id": "0e9dd159",
   "metadata": {},
   "outputs": [],
   "source": [
    "from scipy.sparse import csr_matrix\n",
    "import numpy as np\n",
    "def save_sparse_csr(filename,array):\n",
    "    np.savez(filename,data = array.data ,indices=array.indices,\n",
    "             indptr =array.indptr, shape=array.shape )\n",
    "\n",
    "def load_sparse_csr(filename):\n",
    "    loader = np.load(filename)\n",
    "    return csr_matrix((loader['data'], loader['indices'], loader['indptr']),\n",
    "                         shape = loader['shape'])\n",
    "\n",
    "save_sparse_csr('res_tf_idf.npz', tfs)"
   ]
  },
  {
   "cell_type": "code",
   "execution_count": 12,
   "id": "0571fc8c",
   "metadata": {},
   "outputs": [],
   "source": [
    "tfs = load_sparse_csr(\"res_tf_idf.npz\")"
   ]
  },
  {
   "cell_type": "markdown",
   "id": "a6c23cb5",
   "metadata": {},
   "source": [
    "## Nearest neighbour"
   ]
  },
  {
   "cell_type": "code",
   "execution_count": 19,
   "id": "7b5a3885",
   "metadata": {},
   "outputs": [
    {
     "data": {
      "text/plain": [
       "NearestNeighbors(algorithm='brute', metric='cosine')"
      ]
     },
     "execution_count": 19,
     "metadata": {},
     "output_type": "execute_result"
    }
   ],
   "source": [
    "from sklearn.neighbors import NearestNeighbors\n",
    "\n",
    "model_nn = NearestNeighbors(metric='cosine', algorithm='brute')\n",
    "model_nn.fit(tfs)"
   ]
  },
  {
   "cell_type": "markdown",
   "id": "0f10fe62",
   "metadata": {},
   "source": [
    "## KMeans"
   ]
  },
  {
   "cell_type": "code",
   "execution_count": 25,
   "id": "3311ff1d",
   "metadata": {},
   "outputs": [],
   "source": [
    "from sklearn.cluster import KMeans\n",
    "from matplotlib import pyplot as plt\n",
    "\n",
    "def calculate_distortions():\n",
    "    dist = []\n",
    "    data_train = tfs.todense()\n",
    "    for i in range(20):\n",
    "        model = KMeans(n_clusters=i)\n",
    "        model.fit(data_train)\n",
    "        dist.append(model._inertia)\n",
    "    return dist"
   ]
  },
  {
   "cell_type": "code",
   "execution_count": 26,
   "id": "95e33afe",
   "metadata": {},
   "outputs": [
    {
     "name": "stderr",
     "output_type": "stream",
     "text": [
      "C:\\Users\\ZEN\\anaconda3\\lib\\site-packages\\sklearn\\cluster\\_kmeans.py:94: RuntimeWarning: divide by zero encountered in log\n",
      "  n_local_trials = 2 + int(np.log(n_clusters))\n"
     ]
    },
    {
     "ename": "OverflowError",
     "evalue": "cannot convert float infinity to integer",
     "output_type": "error",
     "traceback": [
      "\u001b[1;31m---------------------------------------------------------------------------\u001b[0m",
      "\u001b[1;31mOverflowError\u001b[0m                             Traceback (most recent call last)",
      "\u001b[1;32m<ipython-input-26-15d09481eb16>\u001b[0m in \u001b[0;36m<module>\u001b[1;34m\u001b[0m\n\u001b[1;32m----> 1\u001b[1;33m \u001b[0mdist_list\u001b[0m \u001b[1;33m=\u001b[0m \u001b[0mcalculate_distortions\u001b[0m\u001b[1;33m(\u001b[0m\u001b[1;33m)\u001b[0m\u001b[1;33m\u001b[0m\u001b[1;33m\u001b[0m\u001b[0m\n\u001b[0m",
      "\u001b[1;32m<ipython-input-25-bb62b671eaea>\u001b[0m in \u001b[0;36mcalculate_distortions\u001b[1;34m()\u001b[0m\n\u001b[0;32m      7\u001b[0m     \u001b[1;32mfor\u001b[0m \u001b[0mi\u001b[0m \u001b[1;32min\u001b[0m \u001b[0mrange\u001b[0m\u001b[1;33m(\u001b[0m\u001b[1;36m20\u001b[0m\u001b[1;33m)\u001b[0m\u001b[1;33m:\u001b[0m\u001b[1;33m\u001b[0m\u001b[1;33m\u001b[0m\u001b[0m\n\u001b[0;32m      8\u001b[0m         \u001b[0mmodel\u001b[0m \u001b[1;33m=\u001b[0m \u001b[0mKMeans\u001b[0m\u001b[1;33m(\u001b[0m\u001b[0mn_clusters\u001b[0m\u001b[1;33m=\u001b[0m\u001b[0mi\u001b[0m\u001b[1;33m)\u001b[0m\u001b[1;33m\u001b[0m\u001b[1;33m\u001b[0m\u001b[0m\n\u001b[1;32m----> 9\u001b[1;33m         \u001b[0mmodel\u001b[0m\u001b[1;33m.\u001b[0m\u001b[0mfit\u001b[0m\u001b[1;33m(\u001b[0m\u001b[0mdata_train\u001b[0m\u001b[1;33m)\u001b[0m\u001b[1;33m\u001b[0m\u001b[1;33m\u001b[0m\u001b[0m\n\u001b[0m\u001b[0;32m     10\u001b[0m         \u001b[0mdist\u001b[0m\u001b[1;33m.\u001b[0m\u001b[0mappend\u001b[0m\u001b[1;33m(\u001b[0m\u001b[0mmodel\u001b[0m\u001b[1;33m.\u001b[0m\u001b[0m_inertia\u001b[0m\u001b[1;33m)\u001b[0m\u001b[1;33m\u001b[0m\u001b[1;33m\u001b[0m\u001b[0m\n\u001b[0;32m     11\u001b[0m     \u001b[1;32mreturn\u001b[0m \u001b[0mdist\u001b[0m\u001b[1;33m\u001b[0m\u001b[1;33m\u001b[0m\u001b[0m\n",
      "\u001b[1;32m~\\anaconda3\\lib\\site-packages\\sklearn\\cluster\\_kmeans.py\u001b[0m in \u001b[0;36mfit\u001b[1;34m(self, X, y, sample_weight)\u001b[0m\n\u001b[0;32m   1014\u001b[0m         \u001b[1;32mfor\u001b[0m \u001b[0mi\u001b[0m \u001b[1;32min\u001b[0m \u001b[0mrange\u001b[0m\u001b[1;33m(\u001b[0m\u001b[0mself\u001b[0m\u001b[1;33m.\u001b[0m\u001b[0m_n_init\u001b[0m\u001b[1;33m)\u001b[0m\u001b[1;33m:\u001b[0m\u001b[1;33m\u001b[0m\u001b[1;33m\u001b[0m\u001b[0m\n\u001b[0;32m   1015\u001b[0m             \u001b[1;31m# Initialize centers\u001b[0m\u001b[1;33m\u001b[0m\u001b[1;33m\u001b[0m\u001b[1;33m\u001b[0m\u001b[0m\n\u001b[1;32m-> 1016\u001b[1;33m             centers_init = self._init_centroids(\n\u001b[0m\u001b[0;32m   1017\u001b[0m                 \u001b[0mX\u001b[0m\u001b[1;33m,\u001b[0m \u001b[0mx_squared_norms\u001b[0m\u001b[1;33m=\u001b[0m\u001b[0mx_squared_norms\u001b[0m\u001b[1;33m,\u001b[0m \u001b[0minit\u001b[0m\u001b[1;33m=\u001b[0m\u001b[0minit\u001b[0m\u001b[1;33m,\u001b[0m\u001b[1;33m\u001b[0m\u001b[1;33m\u001b[0m\u001b[0m\n\u001b[0;32m   1018\u001b[0m                 random_state=random_state)\n",
      "\u001b[1;32m~\\anaconda3\\lib\\site-packages\\sklearn\\cluster\\_kmeans.py\u001b[0m in \u001b[0;36m_init_centroids\u001b[1;34m(self, X, x_squared_norms, init, random_state, init_size)\u001b[0m\n\u001b[0;32m    932\u001b[0m \u001b[1;33m\u001b[0m\u001b[0m\n\u001b[0;32m    933\u001b[0m         \u001b[1;32mif\u001b[0m \u001b[0misinstance\u001b[0m\u001b[1;33m(\u001b[0m\u001b[0minit\u001b[0m\u001b[1;33m,\u001b[0m \u001b[0mstr\u001b[0m\u001b[1;33m)\u001b[0m \u001b[1;32mand\u001b[0m \u001b[0minit\u001b[0m \u001b[1;33m==\u001b[0m \u001b[1;34m'k-means++'\u001b[0m\u001b[1;33m:\u001b[0m\u001b[1;33m\u001b[0m\u001b[1;33m\u001b[0m\u001b[0m\n\u001b[1;32m--> 934\u001b[1;33m             centers, _ = _kmeans_plusplus(X, n_clusters,\n\u001b[0m\u001b[0;32m    935\u001b[0m                                           \u001b[0mrandom_state\u001b[0m\u001b[1;33m=\u001b[0m\u001b[0mrandom_state\u001b[0m\u001b[1;33m,\u001b[0m\u001b[1;33m\u001b[0m\u001b[1;33m\u001b[0m\u001b[0m\n\u001b[0;32m    936\u001b[0m                                           x_squared_norms=x_squared_norms)\n",
      "\u001b[1;32m~\\anaconda3\\lib\\site-packages\\sklearn\\cluster\\_kmeans.py\u001b[0m in \u001b[0;36m_kmeans_plusplus\u001b[1;34m(X, n_clusters, x_squared_norms, random_state, n_local_trials)\u001b[0m\n\u001b[0;32m     92\u001b[0m         \u001b[1;31m# specific results for other than mentioning in the conclusion\u001b[0m\u001b[1;33m\u001b[0m\u001b[1;33m\u001b[0m\u001b[1;33m\u001b[0m\u001b[0m\n\u001b[0;32m     93\u001b[0m         \u001b[1;31m# that it helped.\u001b[0m\u001b[1;33m\u001b[0m\u001b[1;33m\u001b[0m\u001b[1;33m\u001b[0m\u001b[0m\n\u001b[1;32m---> 94\u001b[1;33m         \u001b[0mn_local_trials\u001b[0m \u001b[1;33m=\u001b[0m \u001b[1;36m2\u001b[0m \u001b[1;33m+\u001b[0m \u001b[0mint\u001b[0m\u001b[1;33m(\u001b[0m\u001b[0mnp\u001b[0m\u001b[1;33m.\u001b[0m\u001b[0mlog\u001b[0m\u001b[1;33m(\u001b[0m\u001b[0mn_clusters\u001b[0m\u001b[1;33m)\u001b[0m\u001b[1;33m)\u001b[0m\u001b[1;33m\u001b[0m\u001b[1;33m\u001b[0m\u001b[0m\n\u001b[0m\u001b[0;32m     95\u001b[0m \u001b[1;33m\u001b[0m\u001b[0m\n\u001b[0;32m     96\u001b[0m     \u001b[1;31m# Pick first center randomly and track index of point\u001b[0m\u001b[1;33m\u001b[0m\u001b[1;33m\u001b[0m\u001b[1;33m\u001b[0m\u001b[0m\n",
      "\u001b[1;31mOverflowError\u001b[0m: cannot convert float infinity to integer"
     ]
    }
   ],
   "source": [
    "dist_list = calculate_distortions()"
   ]
  },
  {
   "cell_type": "markdown",
   "id": "f8797a29",
   "metadata": {},
   "source": [
    "## KMeans Clustering"
   ]
  },
  {
   "cell_type": "code",
   "execution_count": null,
   "id": "0be43f94",
   "metadata": {},
   "outputs": [],
   "source": []
  }
 ],
 "metadata": {
  "kernelspec": {
   "display_name": "Python 3",
   "language": "python",
   "name": "python3"
  },
  "language_info": {
   "codemirror_mode": {
    "name": "ipython",
    "version": 3
   },
   "file_extension": ".py",
   "mimetype": "text/x-python",
   "name": "python",
   "nbconvert_exporter": "python",
   "pygments_lexer": "ipython3",
   "version": "3.8.8"
  }
 },
 "nbformat": 4,
 "nbformat_minor": 5
}
